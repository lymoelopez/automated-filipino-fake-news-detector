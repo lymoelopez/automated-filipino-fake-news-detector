{
  "cells": [
    {
      "cell_type": "markdown",
      "source": [
        "# Install Required Packages"
      ],
      "metadata": {
        "id": "Cl5FJQrVz0xw"
      }
    },
    {
      "cell_type": "code",
      "execution_count": null,
      "metadata": {
        "id": "QTDdg6RRH9zT"
      },
      "outputs": [],
      "source": [
        "# forr Evidence Selector\n",
        "!pip install sentence_transformers"
      ]
    },
    {
      "cell_type": "code",
      "source": [
        "# for classifier\n",
        "!pip install langchain"
      ],
      "metadata": {
        "id": "w1jvQFhamxUh"
      },
      "execution_count": null,
      "outputs": []
    },
    {
      "cell_type": "markdown",
      "source": [
        "# Download Automated Fake News Detector"
      ],
      "metadata": {
        "id": "qAZ7Z21a0QG9"
      }
    },
    {
      "cell_type": "code",
      "execution_count": null,
      "metadata": {
        "id": "K-gxQZaz59_s"
      },
      "outputs": [],
      "source": [
        "!git clone -b v3-flan-t5-classifier --single-branch https://github.com/lymoelopez/automated-filipino-fake-news-detector.git"
      ]
    },
    {
      "cell_type": "code",
      "execution_count": 4,
      "metadata": {
        "id": "a0d5-HIr6Foa"
      },
      "outputs": [],
      "source": [
        "import sys\n",
        "sys.path.append('./automated-filipino-fake-news-detector/')\n",
        "sys.path.append('./automated-filipino-fake-news-detector/evidenceCollector')\n",
        "sys.path.append('./automated-filipino-fake-news-detector/preprocessingLayer')\n",
        "sys.path.append('./automated-filipino-fake-news-detector/classificationLayer')"
      ]
    },
    {
      "cell_type": "code",
      "execution_count": null,
      "metadata": {
        "id": "aedRDA-a6Gu_"
      },
      "outputs": [],
      "source": [
        "from automatedFakeNewsTestingPipeline import automatedFakeNewsTestingPipeline"
      ]
    },
    {
      "cell_type": "markdown",
      "source": [
        "# Create Dataset with Prediction"
      ],
      "metadata": {
        "id": "JXpxfbeN0jST"
      }
    },
    {
      "cell_type": "code",
      "execution_count": 6,
      "metadata": {
        "id": "aqOSAv_r8E_O"
      },
      "outputs": [],
      "source": [
        "partNumber = 1"
      ]
    },
    {
      "cell_type": "code",
      "execution_count": 7,
      "metadata": {
        "id": "Buhfi9dk5eXG"
      },
      "outputs": [],
      "source": [
        "import pandas as pd\n",
        "\n",
        "url = f\"https://raw.githubusercontent.com/lymoelopez/automated-filipino-fake-news-detector/main/test%20datasets/automatatedFakeNewsTest-{partNumber}.csv\"\n",
        "testDataFrameWithSearchResults = pd.read_csv(url)"
      ]
    },
    {
      "cell_type": "code",
      "execution_count": null,
      "metadata": {
        "id": "6HrmsqPge5JY"
      },
      "outputs": [],
      "source": [
        "testDataFrameWithSearchResults.head()"
      ]
    },
    {
      "cell_type": "code",
      "execution_count": null,
      "metadata": {
        "id": "Ma5O8jFe5N3e"
      },
      "outputs": [],
      "source": [
        "import ast\n",
        "\n",
        "testDataFrameWithPrediction = testDataFrameWithSearchResults.head(5).copy()\n",
        "testDataFrameWithPrediction[['prediction', 'top urls']] = testDataFrameWithPrediction.apply(lambda row: automatedFakeNewsTestingPipeline(row['headline'], ast.literal_eval(row['search results'])), axis=1, result_type='expand')"
      ]
    },
    {
      "cell_type": "code",
      "execution_count": null,
      "metadata": {
        "id": "ftFc3F9d_vEW"
      },
      "outputs": [],
      "source": [
        "testDataFrameWithPrediction.head()"
      ]
    },
    {
      "cell_type": "markdown",
      "metadata": {
        "id": "x_Gh5qetz2CR"
      },
      "source": [
        "## Save Dataset with Predictions"
      ]
    },
    {
      "cell_type": "code",
      "execution_count": 37,
      "metadata": {
        "id": "-hafr6Ci5WEk"
      },
      "outputs": [],
      "source": [
        "\n",
        "fileName = f\"automatatedFakeNewsTestWithPrediction-{partNumber}.csv\"\n",
        "testDataFrameWithPrediction.to_csv(fileName, index=False)"
      ]
    }
  ],
  "metadata": {
    "colab": {
      "provenance": [],
      "authorship_tag": "ABX9TyMmZc0rP32eHveUKLyHo47b"
    },
    "kernelspec": {
      "display_name": "Python 3",
      "name": "python3"
    },
    "language_info": {
      "name": "python"
    }
  },
  "nbformat": 4,
  "nbformat_minor": 0
}