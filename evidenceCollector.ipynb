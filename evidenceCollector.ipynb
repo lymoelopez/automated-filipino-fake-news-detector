{
  "nbformat": 4,
  "nbformat_minor": 0,
  "metadata": {
    "colab": {
      "provenance": [],
      "authorship_tag": "ABX9TyNUgB8D/XYZr1rqavH7buLJ",
      "include_colab_link": true
    },
    "kernelspec": {
      "name": "python3",
      "display_name": "Python 3"
    },
    "language_info": {
      "name": "python"
    }
  },
  "cells": [
    {
      "cell_type": "markdown",
      "metadata": {
        "id": "view-in-github",
        "colab_type": "text"
      },
      "source": [
        "<a href=\"https://colab.research.google.com/github/lymoelopez/automated-filipino-fake-news-detector/blob/main/evidenceCollector.ipynb\" target=\"_parent\"><img src=\"https://colab.research.google.com/assets/colab-badge.svg\" alt=\"Open In Colab\"/></a>"
      ]
    },
    {
      "cell_type": "markdown",
      "source": [
        "# Evidence Collector"
      ],
      "metadata": {
        "id": "6XHHtEY5Ry4O"
      }
    },
    {
      "cell_type": "markdown",
      "source": [
        "### I. Web Searcher"
      ],
      "metadata": {
        "id": "sAzalKoDM-FM"
      }
    },
    {
      "cell_type": "code",
      "execution_count": 1,
      "metadata": {
        "colab": {
          "base_uri": "https://localhost:8080/"
        },
        "id": "DHfhagLFPAle",
        "outputId": "a2ff2b3b-aafe-463f-e97d-ca77514af018"
      },
      "outputs": [
        {
          "output_type": "stream",
          "name": "stdout",
          "text": [
            "Looking in indexes: https://pypi.org/simple, https://us-python.pkg.dev/colab-wheels/public/simple/\n",
            "Requirement already satisfied: beautifulsoup4 in /usr/local/lib/python3.9/dist-packages (4.11.2)\n",
            "Requirement already satisfied: soupsieve>1.2 in /usr/local/lib/python3.9/dist-packages (from beautifulsoup4) (2.4)\n"
          ]
        }
      ],
      "source": [
        "!pip install beautifulsoup4"
      ]
    },
    {
      "cell_type": "code",
      "source": [
        "!pip install google"
      ],
      "metadata": {
        "colab": {
          "base_uri": "https://localhost:8080/"
        },
        "id": "lcO-pyOmQZ8s",
        "outputId": "a87fbae3-9e5f-4b24-fcee-8b006c3dadb2"
      },
      "execution_count": 2,
      "outputs": [
        {
          "output_type": "stream",
          "name": "stdout",
          "text": [
            "Looking in indexes: https://pypi.org/simple, https://us-python.pkg.dev/colab-wheels/public/simple/\n",
            "Requirement already satisfied: google in /usr/local/lib/python3.9/dist-packages (2.0.3)\n",
            "Requirement already satisfied: beautifulsoup4 in /usr/local/lib/python3.9/dist-packages (from google) (4.11.2)\n",
            "Requirement already satisfied: soupsieve>1.2 in /usr/local/lib/python3.9/dist-packages (from beautifulsoup4->google) (2.4)\n"
          ]
        }
      ]
    },
    {
      "cell_type": "markdown",
      "source": [
        "###### Web Search Filter"
      ],
      "metadata": {
        "id": "qgBfJ2SoNDLg"
      }
    },
    {
      "cell_type": "code",
      "source": [
        "URL_banList = [\"facebook\", \"twitter\", \"youtube\", \"pdf\", \"blog\", \"tiktok\", \"instagram\", \"youtu.be\", \"mp4\", \"mp3\", \"audiobook\", \"podcast\", \"spotify\"]\n",
        "\n",
        "def URLfilter(url):\n",
        "  lowercasedURL = url.lower()\n",
        "  if all(excludedURL not in lowercasedURL for excludedURL in URL_banList):\n",
        "    return url"
      ],
      "metadata": {
        "id": "rIPceVotW8iZ"
      },
      "execution_count": 3,
      "outputs": []
    },
    {
      "cell_type": "markdown",
      "source": [
        "###### Google Search Api"
      ],
      "metadata": {
        "id": "ajv9hXr9SNsP"
      }
    },
    {
      "cell_type": "code",
      "source": [
        "from googlesearch import search\n",
        "\n",
        "def webSearcher(claim):\n",
        "\n",
        "  filteredList = []\n",
        "  \n",
        "  while len(filteredList) <=10:\n",
        "    if len(filteredList) >= 10:\n",
        "      break\n",
        "    for url in search(claim, lang=\"tl\", num=10, pause=3):\n",
        "      filteredURL = URLfilter(url)\n",
        "      if filteredURL and (filteredURL not in filteredList):\n",
        "        filteredList.append(filteredURL)\n",
        "      if len(filteredList) >= 10:\n",
        "        break\n",
        "\n",
        "    return filteredList"
      ],
      "metadata": {
        "id": "1jd6wel6YkBO"
      },
      "execution_count": 9,
      "outputs": []
    },
    {
      "cell_type": "code",
      "source": [
        "sampleClaim = \"may banta sa buhay ni Teves\"\n",
        "\n",
        "urlList = webSearcher(sampleClaim)"
      ],
      "metadata": {
        "id": "X721C_kolDAA"
      },
      "execution_count": 10,
      "outputs": []
    },
    {
      "cell_type": "code",
      "source": [
        "# Number of obntained links\n",
        "print(len(urlList))"
      ],
      "metadata": {
        "colab": {
          "base_uri": "https://localhost:8080/"
        },
        "id": "xqCgOdocaQYd",
        "outputId": "45043232-2f58-42a1-ac72-10b2fa075457"
      },
      "execution_count": 11,
      "outputs": [
        {
          "output_type": "stream",
          "name": "stdout",
          "text": [
            "10\n"
          ]
        }
      ]
    },
    {
      "cell_type": "code",
      "source": [
        "# Top 10 URLs\n",
        "print(urlList)"
      ],
      "metadata": {
        "colab": {
          "base_uri": "https://localhost:8080/"
        },
        "id": "cTRnv_lvcsjn",
        "outputId": "6e54a72e-b1d9-4304-e255-0ba3f1349c32"
      },
      "execution_count": 12,
      "outputs": [
        {
          "output_type": "stream",
          "name": "stdout",
          "text": [
            "['https://www.philstar.com/pilipino-star-ngayon/bansa/2023/03/23/2253752/pangulong-marcos-walang-banta-sa-buhay-ni-teves', 'https://www.philstar.com/pilipino-star-ngayon/bansa/2023/03/14/2251478/teves-may-banta-sa-buhay-kaya-takot-umuwi-legal-counsel', 'https://net25.com/article/13821', 'https://www.remate.ph/walang-banta-sa-buhay-ni-teves-pbbm/', 'https://news.abs-cbn.com/news/03/22/23/banta-sa-buhay-teves-nagpaliwanag-sa-di-pagsipot-sa-kamara', 'https://dzar1026.ph/banta-sa-buhay-ni-cong-arnie-teves-inaalam-ng-militar/', 'https://radyopilipinas.ph/rp1/banta-sa-buhay-ni-rep-teves-kapwa-itinanggi-ng-pnp-at-afp/', 'https://dzme1530.ph/cong-arnie-teves-hindi-pa-dapat-ituring-na-pugante-atty-topacio/', 'https://balita.net.ph/2023/03/22/mag-landing-ka-kung-saan-mo-gusto-marcos-umapela-ulit-kay-teves-na-umuwi-na/', 'https://pilipinomirror.com/banta-kay-teves-tinitingnan-ng-pnp/']\n"
          ]
        }
      ]
    },
    {
      "cell_type": "markdown",
      "source": [
        "### II. Evidence Selector"
      ],
      "metadata": {
        "id": "4bp9jZANTq79"
      }
    },
    {
      "cell_type": "markdown",
      "source": [
        "###### Article Extractor"
      ],
      "metadata": {
        "id": "zcXnFQFef1XH"
      }
    },
    {
      "cell_type": "code",
      "source": [
        "!pip install newspaper3k"
      ],
      "metadata": {
        "colab": {
          "base_uri": "https://localhost:8080/"
        },
        "id": "xid9eCNBkz5d",
        "outputId": "85a296de-42df-488e-eb7a-09edfc23e5ae"
      },
      "execution_count": 8,
      "outputs": [
        {
          "output_type": "stream",
          "name": "stdout",
          "text": [
            "Looking in indexes: https://pypi.org/simple, https://us-python.pkg.dev/colab-wheels/public/simple/\n",
            "Collecting newspaper3k\n",
            "  Downloading newspaper3k-0.2.8-py3-none-any.whl (211 kB)\n",
            "\u001b[2K     \u001b[90m━━━━━━━━━━━━━━━━━━━━━━━━━━━━━━━━━━━━━━━\u001b[0m \u001b[32m211.1/211.1 kB\u001b[0m \u001b[31m8.1 MB/s\u001b[0m eta \u001b[36m0:00:00\u001b[0m\n",
            "\u001b[?25hCollecting feedfinder2>=0.0.4\n",
            "  Downloading feedfinder2-0.0.4.tar.gz (3.3 kB)\n",
            "  Preparing metadata (setup.py) ... \u001b[?25l\u001b[?25hdone\n",
            "Collecting jieba3k>=0.35.1\n",
            "  Downloading jieba3k-0.35.1.zip (7.4 MB)\n",
            "\u001b[2K     \u001b[90m━━━━━━━━━━━━━━━━━━━━━━━━━━━━━━━━━━━━━━━━\u001b[0m \u001b[32m7.4/7.4 MB\u001b[0m \u001b[31m72.9 MB/s\u001b[0m eta \u001b[36m0:00:00\u001b[0m\n",
            "\u001b[?25h  Preparing metadata (setup.py) ... \u001b[?25l\u001b[?25hdone\n",
            "Collecting tinysegmenter==0.3\n",
            "  Downloading tinysegmenter-0.3.tar.gz (16 kB)\n",
            "  Preparing metadata (setup.py) ... \u001b[?25l\u001b[?25hdone\n",
            "Requirement already satisfied: PyYAML>=3.11 in /usr/local/lib/python3.9/dist-packages (from newspaper3k) (6.0)\n",
            "Requirement already satisfied: lxml>=3.6.0 in /usr/local/lib/python3.9/dist-packages (from newspaper3k) (4.9.2)\n",
            "Requirement already satisfied: nltk>=3.2.1 in /usr/local/lib/python3.9/dist-packages (from newspaper3k) (3.8.1)\n",
            "Requirement already satisfied: Pillow>=3.3.0 in /usr/local/lib/python3.9/dist-packages (from newspaper3k) (8.4.0)\n",
            "Requirement already satisfied: python-dateutil>=2.5.3 in /usr/local/lib/python3.9/dist-packages (from newspaper3k) (2.8.2)\n",
            "Requirement already satisfied: requests>=2.10.0 in /usr/local/lib/python3.9/dist-packages (from newspaper3k) (2.27.1)\n",
            "Collecting tldextract>=2.0.1\n",
            "  Downloading tldextract-3.4.0-py3-none-any.whl (93 kB)\n",
            "\u001b[2K     \u001b[90m━━━━━━━━━━━━━━━━━━━━━━━━━━━━━━━━━━━━━━━━\u001b[0m \u001b[32m93.9/93.9 kB\u001b[0m \u001b[31m10.5 MB/s\u001b[0m eta \u001b[36m0:00:00\u001b[0m\n",
            "\u001b[?25hCollecting cssselect>=0.9.2\n",
            "  Downloading cssselect-1.2.0-py2.py3-none-any.whl (18 kB)\n",
            "Requirement already satisfied: beautifulsoup4>=4.4.1 in /usr/local/lib/python3.9/dist-packages (from newspaper3k) (4.11.2)\n",
            "Collecting feedparser>=5.2.1\n",
            "  Downloading feedparser-6.0.10-py3-none-any.whl (81 kB)\n",
            "\u001b[2K     \u001b[90m━━━━━━━━━━━━━━━━━━━━━━━━━━━━━━━━━━━━━━━━\u001b[0m \u001b[32m81.1/81.1 kB\u001b[0m \u001b[31m8.4 MB/s\u001b[0m eta \u001b[36m0:00:00\u001b[0m\n",
            "\u001b[?25hRequirement already satisfied: soupsieve>1.2 in /usr/local/lib/python3.9/dist-packages (from beautifulsoup4>=4.4.1->newspaper3k) (2.4)\n",
            "Requirement already satisfied: six in /usr/local/lib/python3.9/dist-packages (from feedfinder2>=0.0.4->newspaper3k) (1.16.0)\n",
            "Collecting sgmllib3k\n",
            "  Downloading sgmllib3k-1.0.0.tar.gz (5.8 kB)\n",
            "  Preparing metadata (setup.py) ... \u001b[?25l\u001b[?25hdone\n",
            "Requirement already satisfied: tqdm in /usr/local/lib/python3.9/dist-packages (from nltk>=3.2.1->newspaper3k) (4.65.0)\n",
            "Requirement already satisfied: joblib in /usr/local/lib/python3.9/dist-packages (from nltk>=3.2.1->newspaper3k) (1.2.0)\n",
            "Requirement already satisfied: regex>=2021.8.3 in /usr/local/lib/python3.9/dist-packages (from nltk>=3.2.1->newspaper3k) (2022.10.31)\n",
            "Requirement already satisfied: click in /usr/local/lib/python3.9/dist-packages (from nltk>=3.2.1->newspaper3k) (8.1.3)\n",
            "Requirement already satisfied: charset-normalizer~=2.0.0 in /usr/local/lib/python3.9/dist-packages (from requests>=2.10.0->newspaper3k) (2.0.12)\n",
            "Requirement already satisfied: idna<4,>=2.5 in /usr/local/lib/python3.9/dist-packages (from requests>=2.10.0->newspaper3k) (3.4)\n",
            "Requirement already satisfied: urllib3<1.27,>=1.21.1 in /usr/local/lib/python3.9/dist-packages (from requests>=2.10.0->newspaper3k) (1.26.15)\n",
            "Requirement already satisfied: certifi>=2017.4.17 in /usr/local/lib/python3.9/dist-packages (from requests>=2.10.0->newspaper3k) (2022.12.7)\n",
            "Requirement already satisfied: filelock>=3.0.8 in /usr/local/lib/python3.9/dist-packages (from tldextract>=2.0.1->newspaper3k) (3.11.0)\n",
            "Collecting requests-file>=1.4\n",
            "  Downloading requests_file-1.5.1-py2.py3-none-any.whl (3.7 kB)\n",
            "Building wheels for collected packages: tinysegmenter, feedfinder2, jieba3k, sgmllib3k\n",
            "  Building wheel for tinysegmenter (setup.py) ... \u001b[?25l\u001b[?25hdone\n",
            "  Created wheel for tinysegmenter: filename=tinysegmenter-0.3-py3-none-any.whl size=13552 sha256=91afa80b568614c2268171be39b13046e87a73ca3013101e4eb8015b49a9221e\n",
            "  Stored in directory: /root/.cache/pip/wheels/94/ad/df/a2a01300cea47d5695f242f7e925a805970106fd9e4b151468\n",
            "  Building wheel for feedfinder2 (setup.py) ... \u001b[?25l\u001b[?25hdone\n",
            "  Created wheel for feedfinder2: filename=feedfinder2-0.0.4-py3-none-any.whl size=3356 sha256=fcfcfd264066628ca919c3426942fde8bd12eb4a191c0458ef0d8e7131dfb488\n",
            "  Stored in directory: /root/.cache/pip/wheels/43/4a/c2/61a371b2524ac90805391c660d8dc4505705297f25e2b85a5d\n",
            "  Building wheel for jieba3k (setup.py) ... \u001b[?25l\u001b[?25hdone\n",
            "  Created wheel for jieba3k: filename=jieba3k-0.35.1-py3-none-any.whl size=7398404 sha256=9d8217c93b148afd6d1458878caf261608e474e4ec608d42138be48d69d90eee\n",
            "  Stored in directory: /root/.cache/pip/wheels/c2/22/59/8214a8d6357e9f540ce1f37f9a4362b6156b4ca81b37f1945f\n",
            "  Building wheel for sgmllib3k (setup.py) ... \u001b[?25l\u001b[?25hdone\n",
            "  Created wheel for sgmllib3k: filename=sgmllib3k-1.0.0-py3-none-any.whl size=6065 sha256=e5133508eeaa912135f065d8bb7a34b117b6f9b9322325797b6bef4371aaa0ee\n",
            "  Stored in directory: /root/.cache/pip/wheels/65/7a/a7/78c287f64e401255dff4c13fdbc672fed5efbfd21c530114e1\n",
            "Successfully built tinysegmenter feedfinder2 jieba3k sgmllib3k\n",
            "Installing collected packages: tinysegmenter, sgmllib3k, jieba3k, feedparser, cssselect, requests-file, feedfinder2, tldextract, newspaper3k\n",
            "Successfully installed cssselect-1.2.0 feedfinder2-0.0.4 feedparser-6.0.10 jieba3k-0.35.1 newspaper3k-0.2.8 requests-file-1.5.1 sgmllib3k-1.0.0 tinysegmenter-0.3 tldextract-3.4.0\n"
          ]
        }
      ]
    },
    {
      "cell_type": "code",
      "source": [
        "import newspaper\n",
        "\n",
        "def articleExtractor(url):\n",
        "  article = newspaper.Article(url)\n",
        "  article.download()\n",
        "  article.parse()\n",
        "  return article.text"
      ],
      "metadata": {
        "id": "EARATxq5ki5T"
      },
      "execution_count": 13,
      "outputs": []
    },
    {
      "cell_type": "code",
      "source": [
        "sampleUrl = \"https://www.philstar.com/pilipino-star-ngayon/bansa/2023/03/23/2253752/pangulong-marcos-walang-banta-sa-buhay-ni-teves\"\n",
        "\n",
        "print(articleExtractor(sampleUrl))"
      ],
      "metadata": {
        "colab": {
          "base_uri": "https://localhost:8080/"
        },
        "id": "P3c_vL8pmMnn",
        "outputId": "7bf4e3f7-8d24-4643-c4ae-0d3da3c5f049"
      },
      "execution_count": 14,
      "outputs": [
        {
          "output_type": "stream",
          "name": "stdout",
          "text": [
            "Pangulong Marcos: Walang banta sa buhay ni Teves\n",
            "\n",
            "President Ferdinand \"Bongbong\" Marcos Jr. graces the 72nd anniversary celebration of the Department of Social Welfare and Development (DSWD) at its central office in Batasan Road, Quezon City on January 31, 2023.\n",
            "\n",
            "MANILA, Philippines — Dahil wala namang banta sa buhay kaya pinapauwi na ni Pangulong Ferdinand Marcos Jr. si Negros Oriental Congressman Arnie Teves.\n",
            "\n",
            "Si Teves ay sinasabing sangkot sa pagpatay kay Governor Roel Degamo nitong Marso 4.\n",
            "\n",
            "Sa ambush interview kay Pangulong Marcos sa ika-126 Founding Anniversary ng Philippine Army sa Fort Bonifacio sa Taguig City, sinabi nito na mayaman naman si Teves at mayroong private jet.\n",
            "\n",
            "Kaya bahala na si Teves na mamili kung saang airbase gustong mag-landing at papalibutan na lang ito ng mga sundalo at walang makakalapit sa kanya ng isang kilometro para lang masiguro ang kanyang kaligtasan.\n",
            "\n",
            "Matatandaan na sinabi ni Teves na may banta sa kanyang seguridad kung kaya nag-aalangan siyang umuwi ng bansa.\n",
            "\n",
            "“So we have made all fo these offers pero hindi pa siya nagde-decide. The only advice I can only give to Cong. Arnie is that habang tumatagal ito mas nagiging mahirap ang sitwasyon mo. Mas maaga kang makauwi mas marami pang option ang mangyayari. Pero pagka masyado nang late, wala na, mapipilitan ang ­gobyerno, we will have to move without any discussions with him,” ayon pa kay Marcos.\n",
            "\n",
            "Pinabulaanan din ng Pangulo ang pahayag ni Teves na may kumpas ng Malakanyang ang kanyang kaso at may kinalaman ang operasyon ng e-sabong.\n",
            "\n",
            "“Well I have no direct contact with him. Ang nakakausap niya is the Speaker dahil iyon ang Speaker niya, he is the leader of the House. Ganoon pa rin ang sinasabi niya may banta raw sa buhay niya. Kami naman sa intelligence, the best intelligence we have, we don’t know of any threat. Saan manggagaling ‘yung threat? but anyway to reassure him, we will provide all kinds of security kung ano ang gusto mo,” pahayag pa ng Pangulo. — Doris Franche-Borja\n"
          ]
        }
      ]
    },
    {
      "cell_type": "code",
      "source": [
        "# extracted articles from top 10 URLs\n",
        "\n",
        "for url in urlList:\n",
        "  print(url)\n",
        "  print(articleExtractor(url))\n",
        "  print(\"\\n\")"
      ],
      "metadata": {
        "colab": {
          "base_uri": "https://localhost:8080/"
        },
        "id": "LHlvV6hUm03V",
        "outputId": "93a11e68-bf92-4b48-8906-9a1801744365"
      },
      "execution_count": 18,
      "outputs": [
        {
          "output_type": "stream",
          "name": "stdout",
          "text": [
            "https://www.philstar.com/pilipino-star-ngayon/bansa/2023/03/23/2253752/pangulong-marcos-walang-banta-sa-buhay-ni-teves\n",
            "Pangulong Marcos: Walang banta sa buhay ni Teves\n",
            "\n",
            "President Ferdinand \"Bongbong\" Marcos Jr. graces the 72nd anniversary celebration of the Department of Social Welfare and Development (DSWD) at its central office in Batasan Road, Quezon City on January 31, 2023.\n",
            "\n",
            "MANILA, Philippines — Dahil wala namang banta sa buhay kaya pinapauwi na ni Pangulong Ferdinand Marcos Jr. si Negros Oriental Congressman Arnie Teves.\n",
            "\n",
            "Si Teves ay sinasabing sangkot sa pagpatay kay Governor Roel Degamo nitong Marso 4.\n",
            "\n",
            "Sa ambush interview kay Pangulong Marcos sa ika-126 Founding Anniversary ng Philippine Army sa Fort Bonifacio sa Taguig City, sinabi nito na mayaman naman si Teves at mayroong private jet.\n",
            "\n",
            "Kaya bahala na si Teves na mamili kung saang airbase gustong mag-landing at papalibutan na lang ito ng mga sundalo at walang makakalapit sa kanya ng isang kilometro para lang masiguro ang kanyang kaligtasan.\n",
            "\n",
            "Matatandaan na sinabi ni Teves na may banta sa kanyang seguridad kung kaya nag-aalangan siyang umuwi ng bansa.\n",
            "\n",
            "“So we have made all fo these offers pero hindi pa siya nagde-decide. The only advice I can only give to Cong. Arnie is that habang tumatagal ito mas nagiging mahirap ang sitwasyon mo. Mas maaga kang makauwi mas marami pang option ang mangyayari. Pero pagka masyado nang late, wala na, mapipilitan ang ­gobyerno, we will have to move without any discussions with him,” ayon pa kay Marcos.\n",
            "\n",
            "Pinabulaanan din ng Pangulo ang pahayag ni Teves na may kumpas ng Malakanyang ang kanyang kaso at may kinalaman ang operasyon ng e-sabong.\n",
            "\n",
            "“Well I have no direct contact with him. Ang nakakausap niya is the Speaker dahil iyon ang Speaker niya, he is the leader of the House. Ganoon pa rin ang sinasabi niya may banta raw sa buhay niya. Kami naman sa intelligence, the best intelligence we have, we don’t know of any threat. Saan manggagaling ‘yung threat? but anyway to reassure him, we will provide all kinds of security kung ano ang gusto mo,” pahayag pa ng Pangulo. — Doris Franche-Borja\n",
            "\n",
            "\n",
            "https://www.philstar.com/pilipino-star-ngayon/bansa/2023/03/14/2251478/teves-may-banta-sa-buhay-kaya-takot-umuwi-legal-counsel\n",
            "Are you sure you want to log out? X Login Philstar.com is one of the most vibrant, opinionated, discerning communities of readers on cyberspace. With your meaningful insights, help shape the stories that can shape the country. Sign up now! E-mail Address: Password REMEMBER ME FORGOT PASSWORD? SIGN IN or sign in with New user? CLICK HERE TO REGISTER\n",
            "\n",
            "\n",
            "https://net25.com/article/13821\n",
            "FEATURED\n",
            "\n",
            "PBBM: WALANG BANTA SA BUHAY NI TEVES\n",
            "\n",
            "Published Mar 22, 2023 01:17 PM by: NET25 News | 📷: PRESIDENTIAL COMMUNICATIONS OFFICE FB\n",
            "\n",
            "\"Saan manggagaling ‘yung threat?\" Ito ang reaksyon ni Pangulong Ferdinand Marcos Jr. sa pahayag ni Negros Oriental 3rd District Representative Arnolfo Teves Jr. na may matinding banta sa kanyang buhay kaya hindi ito makauwi ng bansa. Sa isang ambush interview, sinabi ng Pangulo na walang banta sa buhay ni Teves, na idinadawit sa pagkamatay ni Negros Oriental Governor Roel Degamo. “Ang sinasabi niya may banta daw sa buhay niya. Kami naman, the best intelligence we have is that we don’t know of any threat. Saan manggagaling ‘yung threat?” ani Marcos. Gayunpaman, tiniyak ng Pangulo ang kaligtasan ng kongresista kung magdesisyon ito na umuwi ng Pilipinas. “Mayaman ka naman, may private jet ka naman eh, maglanding ka kung saan mo gusto. Sa Air Force base, maglanding ka sa Basa, papaligiran natin ng sundalo, walang makalapit ng isang kilometro,” ayon kay Marcos. Pinabulaanan naman ng Pangulo ang pahayag ni Teves na isinangkot ito sa pagpaslang kay Degamo dahil sa e-sabong. “Ang puno’t dulo nito ay e-sabong? Hindi, ang puno’t dulo nito ay pagpaslang kay Governor Degamo,” sinabi ng Pangulo.\n",
            "\n",
            "\n",
            "https://www.remate.ph/walang-banta-sa-buhay-ni-teves-pbbm/\n",
            "\n",
            "\n",
            "\n",
            "https://news.abs-cbn.com/news/03/22/23/banta-sa-buhay-teves-nagpaliwanag-sa-di-pagsipot-sa-kamara\n",
            "Idinaan ni Negros Oriental 3rd District Rep. Arnolfo “Arnie” Teves Jr. ang kaniyang paliwanag sa pagliban sa Kamara sa isang Facebook video Martes ng gabi. Screenshot\n",
            "\n",
            "MAYNILA — Humingi ng paumanhin si Negros Oriental 3rd District Rep. Arnolfo “Arnie” Teves Jr. kay House Speaker Martin Romualdez sa patuloy niyang pagliban sa Kamara kahit pa sinabihan na siya nito na umuwi ng Pilipinas.\n",
            "\n",
            "Sa video na inilabas sa Facebook page ni Teves, sinabi niyang gusto na rin niyang bumalik sa bansa, pero hindi pa magawa dahil sa seryosong banta sa kanyang buhay. Lalo pa nauna nang binawi umano ng Philippine National Police ang lisensya ng baril niya, at tinanggal ang ilang police escort.\n",
            "\n",
            "Kahit tiniyak ni Romualdez na handa ang PNP na magbigay ng seguridad, hindi pa umano nito napawi ang agam-agam ni Teves.\n",
            "\n",
            "“Boss Mart, sorry hindi ko kayo mapagbigyan sa hiling n’yo na umuwi ako dahil hindi ko pwedeng ipagpalit ang aking buhay sa inyong kahilingan,” sabi ni Teves.\n",
            "\n",
            "“Palagay na natin lagyan n’yo ako ng ilang pulis ba or army ... Ilang army, ilang pulis ang naka-assign kay Degamo? Saan na siya ngayon? Nakalibing. Hindi nga siya na-secure ng sandamakmak na army. Sabay sasabihan niyo ako kaya niyo ako i-secure?” dagdag niya.\n",
            "\n",
            "“Sabi nila gusto nila ako marinig. Pero nakiusap ako na magsalita ako via Zoom para they could hear my side. Hindi nila ako pinayagan. Kailangan daw talaga face to face … Hindi ko maintindihan bakit pinipilit nila ako pumunta face to face, na nakiusap na ako na hindi magpapakita muna doon ng physical dahil sa seryosong pagbabanta at grabeng pagbabanta sa aking buhay,” ayon pa kay Teves.\n",
            "\n",
            "Paso na ang travel clearance na ibinigay ng Kamara kay Teves na hanggang March 9 lang, at hindi na pinagbigyan ang kahilingan niyang palawigin ito o mag-leave.\n",
            "\n",
            "Pero hindi pa rin humarap ng personal si Teves sa House Committee on Ethics and Privileges nitong Martes sa kabila ng 24 oras na palugit na ibinigay ng komite.\n",
            "\n",
            "Kaya tinapos na nito ang imbestigasyon kaugnay ng pagliban ni Teves, at isusumite na ang ulat at rekomendasyon sa plenaryo.\n",
            "\n",
            "Giit ni Teves, payo lang, at hindi utos ang pagpapauwi sa kanya ni Romualdez noong una silang nagkausap. Tanong din niya, bakit attendance lang niya ang inimbestigahan ng komite, gayong hindi lang naman siya ang may pagliban sa Kamara.\n",
            "\n",
            "“Ilang araw lang ba ako nag-absent? Biglang ikukwestyon sa ethics committee. Ganito na lang para patas ang lahat. Bakit hindi natin ilabas ang record ng attendance ng buong 17th, 18th, at 19th Congress para makita n’yo ... Kahit noong kasagsagan ng pandemic, pumapasok ako physically,” sabi ni Teves.\n",
            "\n",
            "“Kilala mo ako Boss Mart, kung gaano ako katotoong tao. Alam mo kung paano kita pinagsilbihan noong majority leader ka palang… Alam mo ang ginawa natin para makuha sana ang speakership... Nakikiusap ako, boss, wag nyo naman sana ako idiin. Ayokong lumaban sa inyo, dahil wala naman akong laban. Sino ba naman si Arnie para lumaban sa gobyerno, kay Speaker at sinuman dyan. Ang kaya ko lang gawin magsabi ng katotohanan,” dagdag niya.\n",
            "\n",
            "Naniniwala si Teves na biktima rin siya ng mga pangyayari. Binatikos ng mambabatas ang pagdawit sa pangalan niya sa pagpatay kay Negros Oriental Governor Roel Degamo.\n",
            "\n",
            "“Pareho lang kami ng pamilya Degamo na biktima dito. Biktima sila Degamo. Ako rin biktima, dahil ginagamit ako ng marami diyan for political mileage. Sobrang kawawa na ako. Ginamit niyo pa ako para sa negosyo. Ginagamit niyo pa ako for political mileage. Wag naman sana,” sabi ni Teves.\n",
            "\n",
            "Panawagan ni Teves sa Department of Justice, tingnan lahat ng posibleng anggulo sa pagpatay kay Degamo. May mensahe rin siya kay Justice Secretary Jesus Crispin “Boying” Remulla.\n",
            "\n",
            "“Sec., wala akong problema sa iyong paggawa ng inyong trabaho bilang DOJ Secretary. Isama n’yo man ako sa mga suspek sa imbestigasyon, walang problema. Pero ang hiling ko lang, ‘wag naman ako lang. Lahat ng anggulo tingnan natin,” sabi ni Teves.\n",
            "\n",
            "“Tingnan din natin ang anggulo ng mga kakilala, kapamilya. Hindi pwedeng nakatuon lang sa isang tao. At idiin niyo doon lahat ng kaso at ipa-eksakto niyo ang ebidensya na nahagilap niyo o inimbento niyo. Wag naman sana ganoon,” dagdag niya.\n",
            "\n",
            "“Ang ipinagtataka ko rin, bakit ako tina-target bago pa man ‘yung killing, sabay nadagdag pa ‘yung killing sa Negros Oriental. Naririnig ko lang naman na anggulo, is yung sa e-sabong. Mayroon daw mga tao na gusto nilang masolo yung e-sabong, kaya kinakana nila ako. Matagal ko nang sinabi, wala na ako diyan,” ayon pa kay Teves.\n",
            "\n",
            "Nanawagan naman siya ng tulong kay Pangulong Ferdinand Marcos Jr.\n",
            "\n",
            "\"Mr. President, sobra na yung ginagawa ng ibang tao sa gobyerno sa akin. Masyado na nila akong dinidiin, kinakawawa at inaapi,” apela niya.\n",
            "\n",
            "Isa din si Teves sa mga taong sinampahan ng kasong murder nitong Marso sa Department of Justice (DOJ) ng CIDG kaugnay ng pagpatay kina Negros Oriental Board Member Miguel Dungog at 2 iba pa noong 2019.\n",
            "\n",
            "Ayon kay CIDG Director Police Brig. Gen. Romeo Caramat Jr., positibong itinuro ng mga saksi si Teves bilang mastermind umano sa pagpatay kina Dungog, Lester “Tom-Tom” Bato, at Pacito Libron.\n",
            "\n",
            "KAUGNAY NA ULAT:\n",
            "\n",
            "Watch more News on iWantTFC\n",
            "\n",
            "\n",
            "https://dzar1026.ph/banta-sa-buhay-ni-cong-arnie-teves-inaalam-ng-militar/\n",
            "You may also like...\n",
            "\n",
            "\n",
            "https://radyopilipinas.ph/rp1/banta-sa-buhay-ni-rep-teves-kapwa-itinanggi-ng-pnp-at-afp/\n",
            "Radyo Pilipinas is the flagship government AM radio station of the Philippine Broadcasting Service (PBS), which is under the Presidential Communications Operations Office (PCOO) of the Office of the President, Republic of the Philippines. Its frequency is 738khz on the Philippine AM band.\n",
            "\n",
            "\n",
            "https://dzme1530.ph/cong-arnie-teves-hindi-pa-dapat-ituring-na-pugante-atty-topacio/\n",
            "\n",
            "\n",
            "\n",
            "https://balita.net.ph/2023/03/22/mag-landing-ka-kung-saan-mo-gusto-marcos-umapela-ulit-kay-teves-na-umuwi-na/\n",
            "Nakiusap muli si Pangulong Ferdinand Marcos, Jr. kay Negros Oriental (3rd District) Rep. Arnolfo Teves, Jr. na umuwi na sa bansa upang harapin ang mga alegasyon laban sa kanya.\n",
            "\n",
            "Paniniyak ng Pangulo, ibibigay nila ang lahat ng klase ng seguridad sa pagbabalik ni Teves sa bansa.\n",
            "\n",
            "“But anyway, if to reassure him, we’ll provide all kinds of security kung anong gusto mo. Mayaman ka naman. May private jet ka naman eh. Mag-landing ka kung saan mo gusto, papaligiran – sa Air Force base. Mag-landing siya sa Basa, papaligiran natin ng sundalo, walang makalapit na isang kilometro. So that – that will guarantee his security,” reaksyon ni Marcos matapos dumalo sa ika-126 anibersaryo ng Philippine Army sa Taguig City nitong Miyerkules.\n",
            "\n",
            "Itinanggi rin nito ang ulat sa sinasabing banta sa buhay ni Teves batay na rin nakalap na intelligence information ng Office of the President.\n",
            "\n",
            "“Well, I have no direct contact with him. Ang nakakausap niya is the Speaker (Martin Romualdez) dahil ‘yun ang Speaker niya. So he’s the leader of the House, nakakausap niya. And ganoon pa rin ang sinasabi niya may banta daw sa buhay niya. Kami naman sa intelligence, the best intelligence we have is that we are not – we don’t know of any threat. Saan manggagaling ‘yung threat?,” pagdidiin ng punong ehekutibo.\n",
            "\n",
            "Mas makabubuti rin aniya kung umuwi na sa bansa ang kongresista dahil may mga opsyon pa ito para kanyang depensa.\n",
            "\n",
            "“So we have made all of these offers pero syempre hindi pa siya nagde-decide. But the advice, the only advice I can give to Cong. Arnie is that habang tumatagal ito, mas nagiging mahirap ang sitwasyon mo. So mas maaga kang makauwi, mas marami pang option ang mangyayari,” sabi ni Marcos.\n",
            "\n",
            "“Pero pagka masyado ng late, wala na, mapipilitan na ang gobyerno. We will have to move without any discussions with him,” dagdag nito.\n",
            "\n",
            "Kabilang si Teves sa “person of interest” sa pagpatay kay Negros Oriental Gov. Roel Degamo sa bahay nito sa Pamplona nitong Marso 4.\n",
            "\n",
            "\n",
            "https://pilipinomirror.com/banta-kay-teves-tinitingnan-ng-pnp/\n",
            "MAGING ang itinuturong suspek sa Degamo slay na si Negros Oriental Representative Arnie Teves ay kabilang sa bibigyan ng proteksyon ng Philippine National Police (PNP) laban sa lawless elements.\n",
            "\n",
            "Ito ang nilinaw ni PNP Chief, Gen. Rodolfo Azurin Jr. at sinabing mandato nila ang kaligtasan ng lahat at walang limitasyon sa sinumang indibidwal o personahe ang pagbibigay nila ng proteksyon.\n",
            "\n",
            "Ginawa ni Azurin ang pahayag kasunod ng pagtitiyak na magpapatuloy ang PNP na magsagawa ng joint patrol katuwang ang Armed Forces of the Philippines (AFP) para sa threat assessment ng mga elected official sa local level o sa mga lalawigan.\n",
            "\n",
            "“On the part of the PNP we continue to conduct joint patrol with the AFP and we continue also to conduct the threat assessment of our elected officials at the local level and we continue to provide additional security should there be a need for our local officials for additional security,” ani Azurin.\n",
            "\n",
            "Samantala, inamin ni Azurin na wala silang ulat na nakatatanggap ng banta sa buhay ni Teves at kung mayroon man ay kanila rin itong aalamin.\n",
            "\n",
            "“So far naman po ay wala but we will look into that,” sagot ni Azurin kung may banta sa buhay ng kongresista.\n",
            "\n",
            "EUNICE CELARIO\n",
            "\n",
            "\n"
          ]
        }
      ]
    },
    {
      "cell_type": "markdown",
      "source": [
        "###### Cosine Similarity"
      ],
      "metadata": {
        "id": "H9QJ2NyXogOl"
      }
    },
    {
      "cell_type": "code",
      "source": [],
      "metadata": {
        "id": "Jv2OdKX7onIl"
      },
      "execution_count": null,
      "outputs": []
    },
    {
      "cell_type": "markdown",
      "source": [
        "# References"
      ],
      "metadata": {
        "id": "JYEvaOkcVOKb"
      }
    },
    {
      "cell_type": "markdown",
      "source": [
        "[1] https://www.geeksforgeeks.org/performing-google-search-using-python-code/"
      ],
      "metadata": {
        "id": "0fkpTQyDfxXC"
      }
    }
  ]
}