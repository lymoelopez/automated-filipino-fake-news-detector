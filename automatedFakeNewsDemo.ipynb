{
  "nbformat": 4,
  "nbformat_minor": 0,
  "metadata": {
    "colab": {
      "provenance": [],
      "authorship_tag": "ABX9TyNf83SLAZ5QGKVYUxCWsg3G",
      "include_colab_link": true
    },
    "kernelspec": {
      "name": "python3",
      "display_name": "Python 3"
    },
    "language_info": {
      "name": "python"
    }
  },
  "cells": [
    {
      "cell_type": "markdown",
      "metadata": {
        "id": "view-in-github",
        "colab_type": "text"
      },
      "source": [
        "<a href=\"https://colab.research.google.com/github/lymoelopez/automated-filipino-fake-news-detector/blob/main/automatedFakeNewsDemo.ipynb\" target=\"_parent\"><img src=\"https://colab.research.google.com/assets/colab-badge.svg\" alt=\"Open In Colab\"/></a>"
      ]
    },
    {
      "cell_type": "markdown",
      "source": [
        "# Install Required Packages"
      ],
      "metadata": {
        "id": "GkaB4MKkBcUD"
      }
    },
    {
      "cell_type": "code",
      "execution_count": 1,
      "metadata": {
        "colab": {
          "base_uri": "https://localhost:8080/"
        },
        "id": "s27a7o_NA6Gj",
        "outputId": "cd4d90fa-847a-4a77-ced2-31ac8492b2fb"
      },
      "outputs": [
        {
          "output_type": "stream",
          "name": "stdout",
          "text": [
            "Looking in indexes: https://pypi.org/simple, https://us-python.pkg.dev/colab-wheels/public/simple/\n",
            "Collecting duckduckgo_search==3.0.2\n",
            "  Downloading duckduckgo_search-3.0.2-py3-none-any.whl (16 kB)\n",
            "Requirement already satisfied: click>=8.1.3 in /usr/local/lib/python3.10/dist-packages (from duckduckgo_search==3.0.2) (8.1.3)\n",
            "Collecting requests>=2.30.0 (from duckduckgo_search==3.0.2)\n",
            "  Downloading requests-2.31.0-py3-none-any.whl (62 kB)\n",
            "\u001b[2K     \u001b[90m━━━━━━━━━━━━━━━━━━━━━━━━━━━━━━━━━━━━━━━━\u001b[0m \u001b[32m62.6/62.6 kB\u001b[0m \u001b[31m2.5 MB/s\u001b[0m eta \u001b[36m0:00:00\u001b[0m\n",
            "\u001b[?25hRequirement already satisfied: charset-normalizer<4,>=2 in /usr/local/lib/python3.10/dist-packages (from requests>=2.30.0->duckduckgo_search==3.0.2) (2.0.12)\n",
            "Requirement already satisfied: idna<4,>=2.5 in /usr/local/lib/python3.10/dist-packages (from requests>=2.30.0->duckduckgo_search==3.0.2) (3.4)\n",
            "Requirement already satisfied: urllib3<3,>=1.21.1 in /usr/local/lib/python3.10/dist-packages (from requests>=2.30.0->duckduckgo_search==3.0.2) (1.26.15)\n",
            "Requirement already satisfied: certifi>=2017.4.17 in /usr/local/lib/python3.10/dist-packages (from requests>=2.30.0->duckduckgo_search==3.0.2) (2022.12.7)\n",
            "Installing collected packages: requests, duckduckgo_search\n",
            "  Attempting uninstall: requests\n",
            "    Found existing installation: requests 2.27.1\n",
            "    Uninstalling requests-2.27.1:\n",
            "      Successfully uninstalled requests-2.27.1\n",
            "\u001b[31mERROR: pip's dependency resolver does not currently take into account all the packages that are installed. This behaviour is the source of the following dependency conflicts.\n",
            "google-colab 1.0.0 requires requests==2.27.1, but you have requests 2.31.0 which is incompatible.\u001b[0m\u001b[31m\n",
            "\u001b[0mSuccessfully installed duckduckgo_search-3.0.2 requests-2.31.0\n"
          ]
        }
      ],
      "source": [
        "# for Web Searcher\n",
        "!pip install -U duckduckgo_search==3.0.2"
      ]
    },
    {
      "cell_type": "code",
      "source": [
        "# forr Evidence Selector\n",
        "!pip install sentence_transformers   "
      ],
      "metadata": {
        "colab": {
          "base_uri": "https://localhost:8080/"
        },
        "id": "4qiyMF6ABnEz",
        "outputId": "0c7bd057-e051-46f1-f98c-b486d9915657"
      },
      "execution_count": 2,
      "outputs": [
        {
          "output_type": "stream",
          "name": "stdout",
          "text": [
            "Looking in indexes: https://pypi.org/simple, https://us-python.pkg.dev/colab-wheels/public/simple/\n",
            "Collecting sentence_transformers\n",
            "  Downloading sentence-transformers-2.2.2.tar.gz (85 kB)\n",
            "\u001b[2K     \u001b[90m━━━━━━━━━━━━━━━━━━━━━━━━━━━━━━━━━━━━━━━━\u001b[0m \u001b[32m86.0/86.0 kB\u001b[0m \u001b[31m3.0 MB/s\u001b[0m eta \u001b[36m0:00:00\u001b[0m\n",
            "\u001b[?25h  Preparing metadata (setup.py) ... \u001b[?25l\u001b[?25hdone\n",
            "Collecting transformers<5.0.0,>=4.6.0 (from sentence_transformers)\n",
            "  Downloading transformers-4.29.2-py3-none-any.whl (7.1 MB)\n",
            "\u001b[2K     \u001b[90m━━━━━━━━━━━━━━━━━━━━━━━━━━━━━━━━━━━━━━━━\u001b[0m \u001b[32m7.1/7.1 MB\u001b[0m \u001b[31m43.8 MB/s\u001b[0m eta \u001b[36m0:00:00\u001b[0m\n",
            "\u001b[?25hRequirement already satisfied: tqdm in /usr/local/lib/python3.10/dist-packages (from sentence_transformers) (4.65.0)\n",
            "Requirement already satisfied: torch>=1.6.0 in /usr/local/lib/python3.10/dist-packages (from sentence_transformers) (2.0.1+cu118)\n",
            "Requirement already satisfied: torchvision in /usr/local/lib/python3.10/dist-packages (from sentence_transformers) (0.15.2+cu118)\n",
            "Requirement already satisfied: numpy in /usr/local/lib/python3.10/dist-packages (from sentence_transformers) (1.22.4)\n",
            "Requirement already satisfied: scikit-learn in /usr/local/lib/python3.10/dist-packages (from sentence_transformers) (1.2.2)\n",
            "Requirement already satisfied: scipy in /usr/local/lib/python3.10/dist-packages (from sentence_transformers) (1.10.1)\n",
            "Requirement already satisfied: nltk in /usr/local/lib/python3.10/dist-packages (from sentence_transformers) (3.8.1)\n",
            "Collecting sentencepiece (from sentence_transformers)\n",
            "  Downloading sentencepiece-0.1.99-cp310-cp310-manylinux_2_17_x86_64.manylinux2014_x86_64.whl (1.3 MB)\n",
            "\u001b[2K     \u001b[90m━━━━━━━━━━━━━━━━━━━━━━━━━━━━━━━━━━━━━━━━\u001b[0m \u001b[32m1.3/1.3 MB\u001b[0m \u001b[31m54.7 MB/s\u001b[0m eta \u001b[36m0:00:00\u001b[0m\n",
            "\u001b[?25hCollecting huggingface-hub>=0.4.0 (from sentence_transformers)\n",
            "  Downloading huggingface_hub-0.14.1-py3-none-any.whl (224 kB)\n",
            "\u001b[2K     \u001b[90m━━━━━━━━━━━━━━━━━━━━━━━━━━━━━━━━━━━━━━\u001b[0m \u001b[32m224.5/224.5 kB\u001b[0m \u001b[31m22.9 MB/s\u001b[0m eta \u001b[36m0:00:00\u001b[0m\n",
            "\u001b[?25hRequirement already satisfied: filelock in /usr/local/lib/python3.10/dist-packages (from huggingface-hub>=0.4.0->sentence_transformers) (3.12.0)\n",
            "Requirement already satisfied: fsspec in /usr/local/lib/python3.10/dist-packages (from huggingface-hub>=0.4.0->sentence_transformers) (2023.4.0)\n",
            "Requirement already satisfied: requests in /usr/local/lib/python3.10/dist-packages (from huggingface-hub>=0.4.0->sentence_transformers) (2.31.0)\n",
            "Requirement already satisfied: pyyaml>=5.1 in /usr/local/lib/python3.10/dist-packages (from huggingface-hub>=0.4.0->sentence_transformers) (6.0)\n",
            "Requirement already satisfied: typing-extensions>=3.7.4.3 in /usr/local/lib/python3.10/dist-packages (from huggingface-hub>=0.4.0->sentence_transformers) (4.5.0)\n",
            "Requirement already satisfied: packaging>=20.9 in /usr/local/lib/python3.10/dist-packages (from huggingface-hub>=0.4.0->sentence_transformers) (23.1)\n",
            "Requirement already satisfied: sympy in /usr/local/lib/python3.10/dist-packages (from torch>=1.6.0->sentence_transformers) (1.11.1)\n",
            "Requirement already satisfied: networkx in /usr/local/lib/python3.10/dist-packages (from torch>=1.6.0->sentence_transformers) (3.1)\n",
            "Requirement already satisfied: jinja2 in /usr/local/lib/python3.10/dist-packages (from torch>=1.6.0->sentence_transformers) (3.1.2)\n",
            "Requirement already satisfied: triton==2.0.0 in /usr/local/lib/python3.10/dist-packages (from torch>=1.6.0->sentence_transformers) (2.0.0)\n",
            "Requirement already satisfied: cmake in /usr/local/lib/python3.10/dist-packages (from triton==2.0.0->torch>=1.6.0->sentence_transformers) (3.25.2)\n",
            "Requirement already satisfied: lit in /usr/local/lib/python3.10/dist-packages (from triton==2.0.0->torch>=1.6.0->sentence_transformers) (16.0.5)\n",
            "Requirement already satisfied: regex!=2019.12.17 in /usr/local/lib/python3.10/dist-packages (from transformers<5.0.0,>=4.6.0->sentence_transformers) (2022.10.31)\n",
            "Collecting tokenizers!=0.11.3,<0.14,>=0.11.1 (from transformers<5.0.0,>=4.6.0->sentence_transformers)\n",
            "  Downloading tokenizers-0.13.3-cp310-cp310-manylinux_2_17_x86_64.manylinux2014_x86_64.whl (7.8 MB)\n",
            "\u001b[2K     \u001b[90m━━━━━━━━━━━━━━━━━━━━━━━━━━━━━━━━━━━━━━━━\u001b[0m \u001b[32m7.8/7.8 MB\u001b[0m \u001b[31m81.9 MB/s\u001b[0m eta \u001b[36m0:00:00\u001b[0m\n",
            "\u001b[?25hRequirement already satisfied: click in /usr/local/lib/python3.10/dist-packages (from nltk->sentence_transformers) (8.1.3)\n",
            "Requirement already satisfied: joblib in /usr/local/lib/python3.10/dist-packages (from nltk->sentence_transformers) (1.2.0)\n",
            "Requirement already satisfied: threadpoolctl>=2.0.0 in /usr/local/lib/python3.10/dist-packages (from scikit-learn->sentence_transformers) (3.1.0)\n",
            "Requirement already satisfied: pillow!=8.3.*,>=5.3.0 in /usr/local/lib/python3.10/dist-packages (from torchvision->sentence_transformers) (8.4.0)\n",
            "Requirement already satisfied: MarkupSafe>=2.0 in /usr/local/lib/python3.10/dist-packages (from jinja2->torch>=1.6.0->sentence_transformers) (2.1.2)\n",
            "Requirement already satisfied: charset-normalizer<4,>=2 in /usr/local/lib/python3.10/dist-packages (from requests->huggingface-hub>=0.4.0->sentence_transformers) (2.0.12)\n",
            "Requirement already satisfied: idna<4,>=2.5 in /usr/local/lib/python3.10/dist-packages (from requests->huggingface-hub>=0.4.0->sentence_transformers) (3.4)\n",
            "Requirement already satisfied: urllib3<3,>=1.21.1 in /usr/local/lib/python3.10/dist-packages (from requests->huggingface-hub>=0.4.0->sentence_transformers) (1.26.15)\n",
            "Requirement already satisfied: certifi>=2017.4.17 in /usr/local/lib/python3.10/dist-packages (from requests->huggingface-hub>=0.4.0->sentence_transformers) (2022.12.7)\n",
            "Requirement already satisfied: mpmath>=0.19 in /usr/local/lib/python3.10/dist-packages (from sympy->torch>=1.6.0->sentence_transformers) (1.3.0)\n",
            "Building wheels for collected packages: sentence_transformers\n",
            "  Building wheel for sentence_transformers (setup.py) ... \u001b[?25l\u001b[?25hdone\n",
            "  Created wheel for sentence_transformers: filename=sentence_transformers-2.2.2-py3-none-any.whl size=125926 sha256=aa07a81a71754d9dacca93e76f2d74cebf2b352c09e2add170bb16ce2083f001\n",
            "  Stored in directory: /root/.cache/pip/wheels/62/f2/10/1e606fd5f02395388f74e7462910fe851042f97238cbbd902f\n",
            "Successfully built sentence_transformers\n",
            "Installing collected packages: tokenizers, sentencepiece, huggingface-hub, transformers, sentence_transformers\n",
            "Successfully installed huggingface-hub-0.14.1 sentence_transformers-2.2.2 sentencepiece-0.1.99 tokenizers-0.13.3 transformers-4.29.2\n"
          ]
        }
      ]
    },
    {
      "cell_type": "markdown",
      "source": [
        "# Download Automated Fake News Detector\n"
      ],
      "metadata": {
        "id": "VxUut4m_DxAL"
      }
    },
    {
      "cell_type": "code",
      "source": [
        "!git clone https://github.com/lymoelopez/automated-filipino-fake-news-detector.git"
      ],
      "metadata": {
        "colab": {
          "base_uri": "https://localhost:8080/"
        },
        "id": "WLI93pcEDwoN",
        "outputId": "34b484ff-5aff-4cfd-f651-f89baea17401"
      },
      "execution_count": 4,
      "outputs": [
        {
          "output_type": "stream",
          "name": "stdout",
          "text": [
            "Cloning into 'automated-filipino-fake-news-detector'...\n",
            "remote: Enumerating objects: 313, done.\u001b[K\n",
            "remote: Counting objects:   7% (1/14)\u001b[K\rremote: Counting objects:  14% (2/14)\u001b[K\rremote: Counting objects:  21% (3/14)\u001b[K\rremote: Counting objects:  28% (4/14)\u001b[K\rremote: Counting objects:  35% (5/14)\u001b[K\rremote: Counting objects:  42% (6/14)\u001b[K\rremote: Counting objects:  50% (7/14)\u001b[K\rremote: Counting objects:  57% (8/14)\u001b[K\rremote: Counting objects:  64% (9/14)\u001b[K\rremote: Counting objects:  71% (10/14)\u001b[K\rremote: Counting objects:  78% (11/14)\u001b[K\rremote: Counting objects:  85% (12/14)\u001b[K\rremote: Counting objects:  92% (13/14)\u001b[K\rremote: Counting objects: 100% (14/14)\u001b[K\rremote: Counting objects: 100% (14/14), done.\u001b[K\n",
            "remote: Compressing objects: 100% (13/13), done.\u001b[K\n",
            "remote: Total 313 (delta 4), reused 1 (delta 1), pack-reused 299\u001b[K\n",
            "Receiving objects: 100% (313/313), 19.00 MiB | 24.54 MiB/s, done.\n",
            "Resolving deltas: 100% (144/144), done.\n"
          ]
        }
      ]
    },
    {
      "cell_type": "code",
      "source": [
        "import sys\n",
        "sys.path.append('./automated-filipino-fake-news-detector/')\n",
        "sys.path.append('./automated-filipino-fake-news-detector/evidenceCollector')\n",
        "sys.path.append('./automated-filipino-fake-news-detector/preprocessingLayer')\n",
        "sys.path.append('./automated-filipino-fake-news-detector/classificationLayer')"
      ],
      "metadata": {
        "id": "fFnjOQmVgNHO"
      },
      "execution_count": 8,
      "outputs": []
    },
    {
      "cell_type": "code",
      "source": [
        "from automatedFakeNewsPipeline import automatedFakeNewsPipeline "
      ],
      "metadata": {
        "id": "aZbhmCqzciDN"
      },
      "execution_count": 9,
      "outputs": []
    },
    {
      "cell_type": "markdown",
      "source": [
        "# Demo"
      ],
      "metadata": {
        "id": "P7i5MMF6cLgD"
      }
    },
    {
      "cell_type": "markdown",
      "source": [
        "## Sample 1: Fake News"
      ],
      "metadata": {
        "id": "E4dPkCQTb4u8"
      }
    },
    {
      "cell_type": "code",
      "source": [
        "sampleClaim1 = \"Phased out na ang mga Jeepney sa Pilipinas\""
      ],
      "metadata": {
        "id": "E74wPF0nc3ga"
      },
      "execution_count": 10,
      "outputs": []
    },
    {
      "cell_type": "code",
      "source": [
        "finalPrediction1, topEvidencesUrl1 = automatedFakeNewsPipeline(sampleClaim1)"
      ],
      "metadata": {
        "id": "xWd-S3lN11v4"
      },
      "execution_count": 15,
      "outputs": []
    },
    {
      "cell_type": "code",
      "source": [
        "# '1' for fake news, and '0' for real news\n",
        "print(finalPrediction1)"
      ],
      "metadata": {
        "colab": {
          "base_uri": "https://localhost:8080/"
        },
        "id": "RLDeEps42Hxt",
        "outputId": "5e6a2068-7a50-4453-d7ee-1e39ad10470e"
      },
      "execution_count": 12,
      "outputs": [
        {
          "output_type": "stream",
          "name": "stdout",
          "text": [
            "1\n"
          ]
        }
      ]
    },
    {
      "cell_type": "code",
      "source": [
        "print(topEvidencesUrl1)"
      ],
      "metadata": {
        "colab": {
          "base_uri": "https://localhost:8080/"
        },
        "id": "gBefECp_2ENH",
        "outputId": "64b03858-6c15-44c0-836e-6175e3c5e619"
      },
      "execution_count": 13,
      "outputs": [
        {
          "output_type": "stream",
          "name": "stdout",
          "text": [
            "['https://www.philstar.com/headlines/2020/06/03/2018383/traditional-jeepney-phaseout-proceed'\n",
            " 'https://www.rappler.com/business/explainer-why-some-transport-groups-support-jeepney-modernization/'\n",
            " 'https://newsinfo.inquirer.net/1738862/transport-groups-start-weeklong-strike-to-protest-jeepney-phaseout'\n",
            " 'https://philippineone.com/pagsusuri-sa-panukalang-jeepney-phaseout/'\n",
            " 'http://www.xinhuanet.com/english/2017-03/29/c_136167206.htm']\n"
          ]
        }
      ]
    },
    {
      "cell_type": "markdown",
      "source": [
        "## Sample 2: Fake News"
      ],
      "metadata": {
        "id": "GrAxPi95b91Q"
      }
    },
    {
      "cell_type": "code",
      "source": [
        "sampleClaim2 = \" Pinangalanan ng People Magazine ang 'Mga Pinakamaseksing Lalaking Modelong Buhay'\""
      ],
      "metadata": {
        "id": "eewUMHe2b7X3"
      },
      "execution_count": 14,
      "outputs": []
    },
    {
      "cell_type": "code",
      "source": [
        "finalPrediction2, topEvidencesUrl2 = automatedFakeNewsPipeline(sampleClaim2)"
      ],
      "metadata": {
        "id": "OXmdXC9dcR2e"
      },
      "execution_count": 16,
      "outputs": []
    },
    {
      "cell_type": "code",
      "source": [
        "# '1' for fake news, and '0' for real news\n",
        "print(finalPrediction2)"
      ],
      "metadata": {
        "colab": {
          "base_uri": "https://localhost:8080/"
        },
        "id": "iUutddBOcUPn",
        "outputId": "abb9bbfe-8881-4189-eca3-45b8eb8adb5d"
      },
      "execution_count": 17,
      "outputs": [
        {
          "output_type": "stream",
          "name": "stdout",
          "text": [
            "1\n"
          ]
        }
      ]
    },
    {
      "cell_type": "code",
      "source": [
        "print(topEvidencesUrl2)"
      ],
      "metadata": {
        "colab": {
          "base_uri": "https://localhost:8080/"
        },
        "id": "wCb_V6ytcWBk",
        "outputId": "27ff2adb-84ab-4baf-8b87-34f4dd64c7f7"
      },
      "execution_count": 18,
      "outputs": [
        {
          "output_type": "stream",
          "name": "stdout",
          "text": [
            "['https://tgl.aurabeautyhub.com/sandra-bullock-named-people-magazines-most-beautiful-woman-169555'\n",
            " 'https://tl.wikipedia.org/wiki/Talaan_ng_mga_lalaking_modelo_sa_Pilipinas'\n",
            " 'https://www.wikiwand.com/tl/Mga_manunulat_na_kababaihang_Pilipino'\n",
            " 'https://tl.wikipedia.org/wiki/Talaan_ng_mga_lalaking_modelong_Ingles'\n",
            " 'https://tr-ex.me/pagsasalin/ingles-tagalog/men%27s+magazines']\n"
          ]
        }
      ]
    },
    {
      "cell_type": "markdown",
      "source": [
        "## Sample 3: Real News"
      ],
      "metadata": {
        "id": "0e-ZSbtEcYAr"
      }
    },
    {
      "cell_type": "code",
      "source": [
        "sampleClaim3 = \"TESDA-9 mag-alok ng skills training para sa mga 'standby'\""
      ],
      "metadata": {
        "id": "em_Iv9EkcNuV"
      },
      "execution_count": 19,
      "outputs": []
    },
    {
      "cell_type": "code",
      "source": [
        "finalPrediction3, topEvidencesUrl3 = automatedFakeNewsPipeline(sampleClaim3)"
      ],
      "metadata": {
        "id": "raxd4DBZccaW"
      },
      "execution_count": 20,
      "outputs": []
    },
    {
      "cell_type": "code",
      "source": [
        "# '1' for fake news, and '0' for real news\n",
        "print(finalPrediction3)"
      ],
      "metadata": {
        "colab": {
          "base_uri": "https://localhost:8080/"
        },
        "id": "F72c3IR8ceLa",
        "outputId": "5a7a2d2a-1e0c-4f9f-f568-473305f47fdf"
      },
      "execution_count": 21,
      "outputs": [
        {
          "output_type": "stream",
          "name": "stdout",
          "text": [
            "0\n"
          ]
        }
      ]
    },
    {
      "cell_type": "code",
      "source": [
        "print(topEvidencesUrl3)"
      ],
      "metadata": {
        "colab": {
          "base_uri": "https://localhost:8080/"
        },
        "id": "qNVFELXBcmvG",
        "outputId": "a8ad1a18-0871-45e3-817b-f2ca55a0f582"
      },
      "execution_count": 22,
      "outputs": [
        {
          "output_type": "stream",
          "name": "stdout",
          "text": [
            "['https://www.dole.gov.ph/news/tesda-offers-online-covid-19-prevention-course-to-schools/'\n",
            " 'https://radyo.inquirer.net/259550/tesda-may-alok-na-libreng-training-para-sa-mga-nakasalamuha-ng-covid-19-positive'\n",
            " 'https://www.tagalog.com/videos/watch.php?video_id=153290'\n",
            " 'https://tesda.gov.ph/barangay/index.html'\n",
            " 'https://www.jbsolis.com/2020/04/free-online-study-TESDA.html']\n"
          ]
        }
      ]
    },
    {
      "cell_type": "markdown",
      "source": [
        "## Sample 4: Real News"
      ],
      "metadata": {
        "id": "3oulkGqLQpe8"
      }
    },
    {
      "cell_type": "code",
      "source": [
        "sampleClaim4 = \"isang propesyunal na boksingero si Manny Pacquiao\""
      ],
      "metadata": {
        "id": "gEujL-wBREb0"
      },
      "execution_count": 23,
      "outputs": []
    },
    {
      "cell_type": "code",
      "source": [
        "finalPrediction4, topEvidencesUrl4 = automatedFakeNewsPipeline(sampleClaim4)"
      ],
      "metadata": {
        "id": "-LWxY9bFRHfO"
      },
      "execution_count": 24,
      "outputs": []
    },
    {
      "cell_type": "code",
      "source": [
        "# '1' for fake news, and '0' for real news\n",
        "print(finalPrediction4)"
      ],
      "metadata": {
        "colab": {
          "base_uri": "https://localhost:8080/"
        },
        "id": "E8O5I2zaRNRb",
        "outputId": "1b29f1cb-87bd-476e-edae-6663074db75f"
      },
      "execution_count": 25,
      "outputs": [
        {
          "output_type": "stream",
          "name": "stdout",
          "text": [
            "0\n"
          ]
        }
      ]
    },
    {
      "cell_type": "code",
      "source": [
        "print(topEvidencesUrl4)"
      ],
      "metadata": {
        "colab": {
          "base_uri": "https://localhost:8080/"
        },
        "id": "gAmZyI28RPwy",
        "outputId": "51a1d46a-37b1-4cc7-ba80-a817a5ee4b13"
      },
      "execution_count": 26,
      "outputs": [
        {
          "output_type": "stream",
          "name": "stdout",
          "text": [
            "['https://www.coursehero.com/file/47774166/talambuhaydocx/'\n",
            " 'https://www.philstar.com/pang-masa/pm-sports/2016/12/08/1651354/ibat-ibang-personalidad-ni-manny-pacquiao'\n",
            " 'https://fil.wikipilipinas.org/index.php?title=Manny_Pacquiao'\n",
            " 'https://www.wikiwand.com/tl/Manny_Pacquiao'\n",
            " 'https://brainly.ph/question/22424304']\n"
          ]
        }
      ]
    },
    {
      "cell_type": "markdown",
      "source": [
        "## Sample 5: Fake News"
      ],
      "metadata": {
        "id": "hjxq2I7rRb8T"
      }
    },
    {
      "cell_type": "code",
      "source": [
        "sampleClaim5 = \"patay na si Juan Ponce Enrile\""
      ],
      "metadata": {
        "id": "Hn1C57AtReZx"
      },
      "execution_count": 27,
      "outputs": []
    },
    {
      "cell_type": "code",
      "source": [
        "finalPrediction5, topEvidencesUrl5 = automatedFakeNewsPipeline(sampleClaim5)"
      ],
      "metadata": {
        "id": "SJyi2LF3RiRi"
      },
      "execution_count": 28,
      "outputs": []
    },
    {
      "cell_type": "code",
      "source": [
        "# '1' for fake news, and '0' for real news\n",
        "print(finalPrediction5)"
      ],
      "metadata": {
        "colab": {
          "base_uri": "https://localhost:8080/"
        },
        "id": "CD7no9PSRmTt",
        "outputId": "33e33ca0-4fb3-4af1-a549-45dd2ace5153"
      },
      "execution_count": 29,
      "outputs": [
        {
          "output_type": "stream",
          "name": "stdout",
          "text": [
            "1\n"
          ]
        }
      ]
    },
    {
      "cell_type": "code",
      "source": [
        "print(topEvidencesUrl5)"
      ],
      "metadata": {
        "colab": {
          "base_uri": "https://localhost:8080/"
        },
        "id": "D7NsDLXXRnxs",
        "outputId": "0b79b291-9302-4b78-935f-9d3c86e14af5"
      },
      "execution_count": 30,
      "outputs": [
        {
          "output_type": "stream",
          "name": "stdout",
          "text": [
            "['https://factsfirstph-partners.rappler.com/4656/fact-check-juan-ponce-enrile-claims-cory-aquino-dictator/'\n",
            " 'https://www.rappler.com/nation/43153-enrile-uncover-truth-i-am-innocent/'\n",
            " 'https://www.pep.ph/pepalerts/cabinet-files/159075/juan-ponce-enrile-noynoy-aquino-death-a734-20210624'\n",
            " 'https://tl.wikipedia.org/wiki/Pagpanaw_at_parangal_kay_Corazon_Aquino'\n",
            " 'https://newsinfo.inquirer.net/389427/why-victims-family-did-not-charge-jack-enrile']\n"
          ]
        }
      ]
    }
  ]
}