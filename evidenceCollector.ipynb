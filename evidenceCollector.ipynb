{
  "nbformat": 4,
  "nbformat_minor": 0,
  "metadata": {
    "colab": {
      "provenance": [],
      "authorship_tag": "ABX9TyPHKhmKnjeHNScOg0XGee2y",
      "include_colab_link": true
    },
    "kernelspec": {
      "name": "python3",
      "display_name": "Python 3"
    },
    "language_info": {
      "name": "python"
    }
  },
  "cells": [
    {
      "cell_type": "markdown",
      "metadata": {
        "id": "view-in-github",
        "colab_type": "text"
      },
      "source": [
        "<a href=\"https://colab.research.google.com/github/lymoelopez/automated-filipino-fake-news-detector/blob/main/evidenceCollector.ipynb\" target=\"_parent\"><img src=\"https://colab.research.google.com/assets/colab-badge.svg\" alt=\"Open In Colab\"/></a>"
      ]
    },
    {
      "cell_type": "markdown",
      "source": [
        "# Evidence Collector"
      ],
      "metadata": {
        "id": "6XHHtEY5Ry4O"
      }
    },
    {
      "cell_type": "markdown",
      "source": [
        "## I. Web Searcher"
      ],
      "metadata": {
        "id": "sAzalKoDM-FM"
      }
    },
    {
      "cell_type": "markdown",
      "source": [
        "#### Web Search Filter"
      ],
      "metadata": {
        "id": "qgBfJ2SoNDLg"
      }
    },
    {
      "cell_type": "code",
      "source": [
        "URL_banList = [\"facebook\", \"twitter\", \"youtube\", \"pdf\", \"blog\", \"tiktok\", \"instagram\", \"youtu.be\", \"mp4\", \"mp3\", \"audiobook\", \"podcast\", \"spotify\"]\n",
        "\n",
        "def URLfilter(url):\n",
        "  lowercasedURL = url.lower()\n",
        "  if all(excludedURL not in lowercasedURL for excludedURL in URL_banList):\n",
        "    return url"
      ],
      "metadata": {
        "id": "rIPceVotW8iZ"
      },
      "execution_count": 123,
      "outputs": []
    },
    {
      "cell_type": "markdown",
      "source": [
        "#### Google Search Api"
      ],
      "metadata": {
        "id": "ajv9hXr9SNsP"
      }
    },
    {
      "cell_type": "code",
      "execution_count": 124,
      "metadata": {
        "colab": {
          "base_uri": "https://localhost:8080/"
        },
        "id": "DHfhagLFPAle",
        "outputId": "35f289aa-8df1-4270-9687-7a037624fae3"
      },
      "outputs": [
        {
          "output_type": "stream",
          "name": "stdout",
          "text": [
            "Looking in indexes: https://pypi.org/simple, https://us-python.pkg.dev/colab-wheels/public/simple/\n",
            "Requirement already satisfied: beautifulsoup4 in /usr/local/lib/python3.10/dist-packages (4.11.2)\n",
            "Requirement already satisfied: soupsieve>1.2 in /usr/local/lib/python3.10/dist-packages (from beautifulsoup4) (2.4.1)\n"
          ]
        }
      ],
      "source": [
        "!pip install beautifulsoup4"
      ]
    },
    {
      "cell_type": "code",
      "source": [
        "!pip install google"
      ],
      "metadata": {
        "colab": {
          "base_uri": "https://localhost:8080/"
        },
        "id": "lcO-pyOmQZ8s",
        "outputId": "e96b84be-d800-47ac-f7eb-fd3fb57ccaee"
      },
      "execution_count": 125,
      "outputs": [
        {
          "output_type": "stream",
          "name": "stdout",
          "text": [
            "Looking in indexes: https://pypi.org/simple, https://us-python.pkg.dev/colab-wheels/public/simple/\n",
            "Requirement already satisfied: google in /usr/local/lib/python3.10/dist-packages (2.0.3)\n",
            "Requirement already satisfied: beautifulsoup4 in /usr/local/lib/python3.10/dist-packages (from google) (4.11.2)\n",
            "Requirement already satisfied: soupsieve>1.2 in /usr/local/lib/python3.10/dist-packages (from beautifulsoup4->google) (2.4.1)\n"
          ]
        }
      ]
    },
    {
      "cell_type": "code",
      "source": [
        "from googlesearch import search\n",
        "\n",
        "def webSearcher(inputClaim, numOfResults=20):\n",
        "\n",
        "  filteredList = []\n",
        "  #numOfResults = 20\n",
        "  \n",
        "  while len(filteredList) <= numOfResults:\n",
        "    if len(filteredList) >= numOfResults:\n",
        "      break\n",
        "    for url in search(inputClaim, lang=\"tl\", num=numOfResults, pause=3):\n",
        "      filteredURL = URLfilter(url)\n",
        "      if filteredURL and (filteredURL not in filteredList):\n",
        "        filteredList.append(filteredURL)\n",
        "      if len(filteredList) >= numOfResults:\n",
        "        break\n",
        "\n",
        "    return filteredList"
      ],
      "metadata": {
        "id": "1jd6wel6YkBO"
      },
      "execution_count": 126,
      "outputs": []
    },
    {
      "cell_type": "markdown",
      "source": [
        "## II. Evidence Selector"
      ],
      "metadata": {
        "id": "4bp9jZANTq79"
      }
    },
    {
      "cell_type": "markdown",
      "source": [
        "#### Article Extractor"
      ],
      "metadata": {
        "id": "zcXnFQFef1XH"
      }
    },
    {
      "cell_type": "code",
      "source": [
        "!pip install newspaper3k"
      ],
      "metadata": {
        "colab": {
          "base_uri": "https://localhost:8080/"
        },
        "id": "xid9eCNBkz5d",
        "outputId": "4bebf165-8ef9-46b7-ec9c-cdf3a0ba2fd4"
      },
      "execution_count": 127,
      "outputs": [
        {
          "output_type": "stream",
          "name": "stdout",
          "text": [
            "Looking in indexes: https://pypi.org/simple, https://us-python.pkg.dev/colab-wheels/public/simple/\n",
            "Requirement already satisfied: newspaper3k in /usr/local/lib/python3.10/dist-packages (0.2.8)\n",
            "Requirement already satisfied: PyYAML>=3.11 in /usr/local/lib/python3.10/dist-packages (from newspaper3k) (6.0)\n",
            "Requirement already satisfied: feedparser>=5.2.1 in /usr/local/lib/python3.10/dist-packages (from newspaper3k) (6.0.10)\n",
            "Requirement already satisfied: lxml>=3.6.0 in /usr/local/lib/python3.10/dist-packages (from newspaper3k) (4.9.2)\n",
            "Requirement already satisfied: cssselect>=0.9.2 in /usr/local/lib/python3.10/dist-packages (from newspaper3k) (1.2.0)\n",
            "Requirement already satisfied: nltk>=3.2.1 in /usr/local/lib/python3.10/dist-packages (from newspaper3k) (3.8.1)\n",
            "Requirement already satisfied: python-dateutil>=2.5.3 in /usr/local/lib/python3.10/dist-packages (from newspaper3k) (2.8.2)\n",
            "Requirement already satisfied: requests>=2.10.0 in /usr/local/lib/python3.10/dist-packages (from newspaper3k) (2.27.1)\n",
            "Requirement already satisfied: tinysegmenter==0.3 in /usr/local/lib/python3.10/dist-packages (from newspaper3k) (0.3)\n",
            "Requirement already satisfied: Pillow>=3.3.0 in /usr/local/lib/python3.10/dist-packages (from newspaper3k) (8.4.0)\n",
            "Requirement already satisfied: jieba3k>=0.35.1 in /usr/local/lib/python3.10/dist-packages (from newspaper3k) (0.35.1)\n",
            "Requirement already satisfied: beautifulsoup4>=4.4.1 in /usr/local/lib/python3.10/dist-packages (from newspaper3k) (4.11.2)\n",
            "Requirement already satisfied: feedfinder2>=0.0.4 in /usr/local/lib/python3.10/dist-packages (from newspaper3k) (0.0.4)\n",
            "Requirement already satisfied: tldextract>=2.0.1 in /usr/local/lib/python3.10/dist-packages (from newspaper3k) (3.4.1)\n",
            "Requirement already satisfied: soupsieve>1.2 in /usr/local/lib/python3.10/dist-packages (from beautifulsoup4>=4.4.1->newspaper3k) (2.4.1)\n",
            "Requirement already satisfied: six in /usr/local/lib/python3.10/dist-packages (from feedfinder2>=0.0.4->newspaper3k) (1.16.0)\n",
            "Requirement already satisfied: sgmllib3k in /usr/local/lib/python3.10/dist-packages (from feedparser>=5.2.1->newspaper3k) (1.0.0)\n",
            "Requirement already satisfied: click in /usr/local/lib/python3.10/dist-packages (from nltk>=3.2.1->newspaper3k) (8.1.3)\n",
            "Requirement already satisfied: regex>=2021.8.3 in /usr/local/lib/python3.10/dist-packages (from nltk>=3.2.1->newspaper3k) (2022.10.31)\n",
            "Requirement already satisfied: tqdm in /usr/local/lib/python3.10/dist-packages (from nltk>=3.2.1->newspaper3k) (4.65.0)\n",
            "Requirement already satisfied: joblib in /usr/local/lib/python3.10/dist-packages (from nltk>=3.2.1->newspaper3k) (1.2.0)\n",
            "Requirement already satisfied: urllib3<1.27,>=1.21.1 in /usr/local/lib/python3.10/dist-packages (from requests>=2.10.0->newspaper3k) (1.26.15)\n",
            "Requirement already satisfied: certifi>=2017.4.17 in /usr/local/lib/python3.10/dist-packages (from requests>=2.10.0->newspaper3k) (2022.12.7)\n",
            "Requirement already satisfied: idna<4,>=2.5 in /usr/local/lib/python3.10/dist-packages (from requests>=2.10.0->newspaper3k) (3.4)\n",
            "Requirement already satisfied: charset-normalizer~=2.0.0 in /usr/local/lib/python3.10/dist-packages (from requests>=2.10.0->newspaper3k) (2.0.12)\n",
            "Requirement already satisfied: filelock>=3.0.8 in /usr/local/lib/python3.10/dist-packages (from tldextract>=2.0.1->newspaper3k) (3.12.0)\n",
            "Requirement already satisfied: requests-file>=1.4 in /usr/local/lib/python3.10/dist-packages (from tldextract>=2.0.1->newspaper3k) (1.5.1)\n"
          ]
        }
      ]
    },
    {
      "cell_type": "code",
      "source": [
        "from newspaper import Article\n",
        "\n",
        "def articleExtractor(url):\n",
        "\n",
        "  try:\n",
        "    article = Article(url)\n",
        "    article.download()\n",
        "    article.parse()\n",
        "  except:\n",
        "    return \"\"\n",
        "\n",
        "  return article.text"
      ],
      "metadata": {
        "id": "dfgN5dfn66SQ"
      },
      "execution_count": 128,
      "outputs": []
    },
    {
      "cell_type": "code",
      "source": [
        "def createExtractedArticlesList(urlList):\n",
        "\n",
        "  extractedArticlesList = []\n",
        "\n",
        "  for url in urlList:\n",
        "    extractedArticlesList.append(articleExtractor(url))\n",
        "\n",
        "  return extractedArticlesList"
      ],
      "metadata": {
        "id": "oLdB6Z2D3XSJ"
      },
      "execution_count": 129,
      "outputs": []
    },
    {
      "cell_type": "markdown",
      "source": [
        "#### Cosine Similarity"
      ],
      "metadata": {
        "id": "H9QJ2NyXogOl"
      }
    },
    {
      "cell_type": "code",
      "source": [
        "!pip install sentence_transformers"
      ],
      "metadata": {
        "id": "Jv2OdKX7onIl",
        "colab": {
          "base_uri": "https://localhost:8080/"
        },
        "outputId": "896f8cea-e177-4c59-cf1a-7a13d52396a9"
      },
      "execution_count": 130,
      "outputs": [
        {
          "output_type": "stream",
          "name": "stdout",
          "text": [
            "Looking in indexes: https://pypi.org/simple, https://us-python.pkg.dev/colab-wheels/public/simple/\n",
            "Requirement already satisfied: sentence_transformers in /usr/local/lib/python3.10/dist-packages (2.2.2)\n",
            "Requirement already satisfied: huggingface-hub>=0.4.0 in /usr/local/lib/python3.10/dist-packages (from sentence_transformers) (0.14.1)\n",
            "Requirement already satisfied: torch>=1.6.0 in /usr/local/lib/python3.10/dist-packages (from sentence_transformers) (2.0.0+cu118)\n",
            "Requirement already satisfied: sentencepiece in /usr/local/lib/python3.10/dist-packages (from sentence_transformers) (0.1.98)\n",
            "Requirement already satisfied: torchvision in /usr/local/lib/python3.10/dist-packages (from sentence_transformers) (0.15.1+cu118)\n",
            "Requirement already satisfied: numpy in /usr/local/lib/python3.10/dist-packages (from sentence_transformers) (1.22.4)\n",
            "Requirement already satisfied: transformers<5.0.0,>=4.6.0 in /usr/local/lib/python3.10/dist-packages (from sentence_transformers) (4.28.1)\n",
            "Requirement already satisfied: tqdm in /usr/local/lib/python3.10/dist-packages (from sentence_transformers) (4.65.0)\n",
            "Requirement already satisfied: scipy in /usr/local/lib/python3.10/dist-packages (from sentence_transformers) (1.10.1)\n",
            "Requirement already satisfied: nltk in /usr/local/lib/python3.10/dist-packages (from sentence_transformers) (3.8.1)\n",
            "Requirement already satisfied: scikit-learn in /usr/local/lib/python3.10/dist-packages (from sentence_transformers) (1.2.2)\n",
            "Requirement already satisfied: fsspec in /usr/local/lib/python3.10/dist-packages (from huggingface-hub>=0.4.0->sentence_transformers) (2023.4.0)\n",
            "Requirement already satisfied: pyyaml>=5.1 in /usr/local/lib/python3.10/dist-packages (from huggingface-hub>=0.4.0->sentence_transformers) (6.0)\n",
            "Requirement already satisfied: packaging>=20.9 in /usr/local/lib/python3.10/dist-packages (from huggingface-hub>=0.4.0->sentence_transformers) (23.1)\n",
            "Requirement already satisfied: typing-extensions>=3.7.4.3 in /usr/local/lib/python3.10/dist-packages (from huggingface-hub>=0.4.0->sentence_transformers) (4.5.0)\n",
            "Requirement already satisfied: filelock in /usr/local/lib/python3.10/dist-packages (from huggingface-hub>=0.4.0->sentence_transformers) (3.12.0)\n",
            "Requirement already satisfied: requests in /usr/local/lib/python3.10/dist-packages (from huggingface-hub>=0.4.0->sentence_transformers) (2.27.1)\n",
            "Requirement already satisfied: jinja2 in /usr/local/lib/python3.10/dist-packages (from torch>=1.6.0->sentence_transformers) (3.1.2)\n",
            "Requirement already satisfied: triton==2.0.0 in /usr/local/lib/python3.10/dist-packages (from torch>=1.6.0->sentence_transformers) (2.0.0)\n",
            "Requirement already satisfied: sympy in /usr/local/lib/python3.10/dist-packages (from torch>=1.6.0->sentence_transformers) (1.11.1)\n",
            "Requirement already satisfied: networkx in /usr/local/lib/python3.10/dist-packages (from torch>=1.6.0->sentence_transformers) (3.1)\n",
            "Requirement already satisfied: cmake in /usr/local/lib/python3.10/dist-packages (from triton==2.0.0->torch>=1.6.0->sentence_transformers) (3.25.2)\n",
            "Requirement already satisfied: lit in /usr/local/lib/python3.10/dist-packages (from triton==2.0.0->torch>=1.6.0->sentence_transformers) (16.0.2)\n",
            "Requirement already satisfied: regex!=2019.12.17 in /usr/local/lib/python3.10/dist-packages (from transformers<5.0.0,>=4.6.0->sentence_transformers) (2022.10.31)\n",
            "Requirement already satisfied: tokenizers!=0.11.3,<0.14,>=0.11.1 in /usr/local/lib/python3.10/dist-packages (from transformers<5.0.0,>=4.6.0->sentence_transformers) (0.13.3)\n",
            "Requirement already satisfied: joblib in /usr/local/lib/python3.10/dist-packages (from nltk->sentence_transformers) (1.2.0)\n",
            "Requirement already satisfied: click in /usr/local/lib/python3.10/dist-packages (from nltk->sentence_transformers) (8.1.3)\n",
            "Requirement already satisfied: threadpoolctl>=2.0.0 in /usr/local/lib/python3.10/dist-packages (from scikit-learn->sentence_transformers) (3.1.0)\n",
            "Requirement already satisfied: pillow!=8.3.*,>=5.3.0 in /usr/local/lib/python3.10/dist-packages (from torchvision->sentence_transformers) (8.4.0)\n",
            "Requirement already satisfied: MarkupSafe>=2.0 in /usr/local/lib/python3.10/dist-packages (from jinja2->torch>=1.6.0->sentence_transformers) (2.1.2)\n",
            "Requirement already satisfied: idna<4,>=2.5 in /usr/local/lib/python3.10/dist-packages (from requests->huggingface-hub>=0.4.0->sentence_transformers) (3.4)\n",
            "Requirement already satisfied: certifi>=2017.4.17 in /usr/local/lib/python3.10/dist-packages (from requests->huggingface-hub>=0.4.0->sentence_transformers) (2022.12.7)\n",
            "Requirement already satisfied: urllib3<1.27,>=1.21.1 in /usr/local/lib/python3.10/dist-packages (from requests->huggingface-hub>=0.4.0->sentence_transformers) (1.26.15)\n",
            "Requirement already satisfied: charset-normalizer~=2.0.0 in /usr/local/lib/python3.10/dist-packages (from requests->huggingface-hub>=0.4.0->sentence_transformers) (2.0.12)\n",
            "Requirement already satisfied: mpmath>=0.19 in /usr/local/lib/python3.10/dist-packages (from sympy->torch>=1.6.0->sentence_transformers) (1.3.0)\n"
          ]
        }
      ]
    },
    {
      "cell_type": "code",
      "source": [
        "from sentence_transformers import SentenceTransformer\n",
        "\n",
        "cosineSimilarityModel = SentenceTransformer(\"danjohnvelasco/filipino-sentence-roberta-v1\")"
      ],
      "metadata": {
        "id": "R9YxguNT2ojD"
      },
      "execution_count": 131,
      "outputs": []
    },
    {
      "cell_type": "code",
      "source": [
        "from sklearn.metrics.pairwise import cosine_similarity\n",
        "\n",
        "def findSimilarityScores(inputClaim, extractedArticlesList):\n",
        "\n",
        "  # append claim in front of extracted articles list\n",
        "  sentences = list(extractedArticlesList)\n",
        "  sentences.insert(0, inputClaim)\n",
        "  sentenceEmbeddings = model.encode(sentences)\n",
        "\n",
        "  similarityScores = cosine_similarity(\n",
        "      [sentenceEmbeddings[0]],\n",
        "      sentenceEmbeddings[1:]\n",
        "  )\n",
        "\n",
        "  return similarityScores[0]"
      ],
      "metadata": {
        "id": "a9iCrZYx3WHD"
      },
      "execution_count": 132,
      "outputs": []
    },
    {
      "cell_type": "code",
      "source": [
        "import numpy as np\n",
        "\n",
        "def findTopFiveEvidences(inputClaim, extractedArticlesList, model):\n",
        "\n",
        "  similarityScores = findSimilarityScores(inputClaim, extractedArticlesList)\n",
        "  topFiveSimilarityScoresIndex = np.argpartition(similarityScores,-5)[-5:]\n",
        "\n",
        "  numpyExtractedArticlesList = np.array(extractedArticlesList)\n",
        "  topFiveEvidences = numpyExtractedArticlesList[topFiveSimilarityScoresIndex]\n",
        "\n",
        "  return topFiveEvidences"
      ],
      "metadata": {
        "id": "m27z3pF2zoEg"
      },
      "execution_count": 133,
      "outputs": []
    },
    {
      "cell_type": "markdown",
      "source": [
        "# Evidence Collector Function"
      ],
      "metadata": {
        "id": "u8NgLHy1TN6g"
      }
    },
    {
      "cell_type": "code",
      "source": [
        "def evidenceCollector(inputClaim, model):\n",
        "\n",
        "  filteredUrlList = webSearcher(inputClaim, 20)\n",
        "  extractedArticlesList = createExtractedArticlesList(filteredUrlList)\n",
        "  topFiveEvidences = findTopFiveEvidences(inputClaim, extractedArticlesList, model)\n",
        "\n",
        "  return filteredUrlList, extractedArticlesList, topFiveEvidences"
      ],
      "metadata": {
        "id": "eRSix2MTSUi7"
      },
      "execution_count": 134,
      "outputs": []
    },
    {
      "cell_type": "markdown",
      "source": [
        "### Sample Claims"
      ],
      "metadata": {
        "id": "PBL-hZupWQfe"
      }
    },
    {
      "cell_type": "markdown",
      "source": [
        "#### Sample Claim 1"
      ],
      "metadata": {
        "id": "4_Wx_vxaYqJR"
      }
    },
    {
      "cell_type": "code",
      "source": [
        "sampleClaim1 = \"may banta sa buhay ni Teves\"\n",
        "filteredUrlList1, extractedArticlesList1, topFiveEvidences1 = evidenceCollector(sampleClaim1, cosineSimilarityModel)"
      ],
      "metadata": {
        "id": "HxRhOfNsWP7Z"
      },
      "execution_count": 135,
      "outputs": []
    },
    {
      "cell_type": "code",
      "source": [
        "len(filteredUrlList1)"
      ],
      "metadata": {
        "colab": {
          "base_uri": "https://localhost:8080/"
        },
        "id": "Ms6DkGJvWor-",
        "outputId": "b7fc4bb2-34b6-4dc7-b4a0-fa591273fdec"
      },
      "execution_count": 136,
      "outputs": [
        {
          "output_type": "execute_result",
          "data": {
            "text/plain": [
              "20"
            ]
          },
          "metadata": {},
          "execution_count": 136
        }
      ]
    },
    {
      "cell_type": "code",
      "source": [
        "len(extractedArticlesList1)"
      ],
      "metadata": {
        "colab": {
          "base_uri": "https://localhost:8080/"
        },
        "id": "v_gD94rTYh2z",
        "outputId": "921e1eab-b3fc-4f47-b5a4-6a33405cc4ca"
      },
      "execution_count": 140,
      "outputs": [
        {
          "output_type": "execute_result",
          "data": {
            "text/plain": [
              "20"
            ]
          },
          "metadata": {},
          "execution_count": 140
        }
      ]
    },
    {
      "cell_type": "code",
      "source": [
        "print(topFiveEvidences1)"
      ],
      "metadata": {
        "colab": {
          "base_uri": "https://localhost:8080/"
        },
        "id": "PDHTRZv6XShm",
        "outputId": "440d3679-701c-4f3c-fc8f-ca7649c5845e"
      },
      "execution_count": 137,
      "outputs": [
        {
          "output_type": "stream",
          "name": "stdout",
          "text": [
            "['Nakiusap muli si Pangulong Ferdinand Marcos, Jr. kay Negros Oriental (3rd District) Rep. Arnolfo Teves, Jr. na umuwi na sa bansa upang harapin ang mga alegasyon laban sa kanya.\\n\\nPaniniyak ng Pangulo, ibibigay nila ang lahat ng klase ng seguridad sa pagbabalik ni Teves sa bansa.\\n\\n“But anyway, if to reassure him, we’ll provide all kinds of security kung anong gusto mo. Mayaman ka naman. May private jet ka naman eh. Mag-landing ka kung saan mo gusto, papaligiran – sa Air Force base. Mag-landing siya sa Basa, papaligiran natin ng sundalo, walang makalapit na isang kilometro. So that – that will guarantee his security,” reaksyon ni Marcos matapos dumalo sa ika-126 anibersaryo ng Philippine Army sa Taguig City nitong Miyerkules.\\n\\nItinanggi rin nito ang ulat sa sinasabing banta sa buhay ni Teves batay na rin nakalap na intelligence information ng Office of the President.\\n\\n“Well, I have no direct contact with him. Ang nakakausap niya is the Speaker (Martin Romualdez) dahil ‘yun ang Speaker niya. So he’s the leader of the House, nakakausap niya. And ganoon pa rin ang sinasabi niya may banta daw sa buhay niya. Kami naman sa intelligence, the best intelligence we have is that we are not – we don’t know of any threat. Saan manggagaling ‘yung threat?,” pagdidiin ng punong ehekutibo.\\n\\nMas makabubuti rin aniya kung umuwi na sa bansa ang kongresista dahil may mga opsyon pa ito para kanyang depensa.\\n\\n“So we have made all of these offers pero syempre hindi pa siya nagde-decide. But the advice, the only advice I can give to Cong. Arnie is that habang tumatagal ito, mas nagiging mahirap ang sitwasyon mo. So mas maaga kang makauwi, mas marami pang option ang mangyayari,” sabi ni Marcos.\\n\\n“Pero pagka masyado ng late, wala na, mapipilitan na ang gobyerno. We will have to move without any discussions with him,” dagdag nito.\\n\\nKabilang si Teves sa “person of interest” sa pagpatay kay Negros Oriental Gov. Roel Degamo sa bahay nito sa Pamplona nitong Marso 4.'\n",
            " 'Speaker Ferdinand Martin Romualdez\\n\\nNi NOEL ABUEL\\n\\nNakausap na ni House Speaker Ferdinand Martin Romualdez si Negros Oriental Rep. Arnie Teves na nanindigang nangangamba pa rin sa buhay nito kung kaya’t tumatangging bumalik na ng bansa.\\n\\nSinabi ni Romualdez na nakatanggap ito ng tawag sa telepono kagabi mula kay Teves na tumangging sabihin kung nasaang lugar ito upang iparating ang pangamba sa kaligtasan nito at ng kanyang pamilya.\\n\\n“Cong. Arnie Teves got in touch with me through a phone call last night from an undetermined location. He expressed fear for the safety of his person and his family, saying this is the reason why he refuses to return home at this time,” sabi ng lider ng Kamara\\n\\nTinugon naman ni Romualdez ang pahayag ni Teves sa pagsasabing bilang pinuno ng Kamara ay tinitiyak nito ang kaligtasan ng lahat ng miyembro nito.\\n\\n“I assured him that the Speaker, as the political and administrative leader of the House of Representatives, will exert all efforts to ensure the personal safety of all Members. In fact, I have ordered the House Sergeant-at-Arms to coordinate with law enforcement agencies and prepare appropriate security arrangements for his return,” paliwanag pa nito.\\n\\n“Pero inulit ko rin kay Cong. Arnie, he needs to go home and report for work immediately as he no longer has the authority to travel outside the country. Gusto rin naming marinig sa Kongreso ang panig niya. Kung may kaso man siyang kailangang harapin, dapat niya itong harapin. Dito sa loob ng bansa, at hindi sa labas,” dagdag pa ni Romualdez.\\n\\nAdvertisement'\n",
            " 'Negros Oriental Rep. Arnolfo Teves Jr. (File photo)\\n\\nMANILA – President Ferdinand R. Marcos Jr. said Wednesday there is no threat to the life of Negros Oriental Rep. Arnolfo Teves Jr. based on the intelligence information the Office of the President has been receiving.\\n\\n\"Ganoon pa rin ang sinasabi niya may banta daw sa buhay niya. Kami naman sa (He still says that there is a threat to his life. We are in) intelligence, the best intelligence we have is that we are not – we don’t know of any threat. Saan manggagaling ‘yung threat? (Where does the threat come from),” Marcos told reporters.\\n\\nThe President assured Teves that his administration is willing to provide all kinds of security for him, urging the legislator to come home and face the criminal charges against him.\\n\\nTeves, who is being linked to the killing of Negros Oriental Governor Roel Degamo, has been out of the country since February and has reportedly refused to come back, citing threats to his life.\\n\\n“But anyway, if to reassure him, we’ll provide all kinds of security kung anong gusto mo. Mayaman ka naman. May private jet ka naman eh. Mag-landing ka kung saan mo gusto, papaligiran – sa Air Force base. Mag-landing siya sa Basa, papaligiran natin ng sundalo, walang makalapit na isang kilometro. So that – that will guarantee his security (You\\'re rich anyway. You have a private jet. You could land anywhere you want – on the Air Force base in Basa. You will be surrounded with soldiers to ensure your security and no one will get near you),” Marcos said.\\n\\nHe said Teves would have more options for his defense if he comes home sooner, warning that the government would have to \"move without any discussions with him\" if it is too late.\\n\\n“We have made all of these offers pero syempre hindi pa siya nagde-decide (but he still has not decided yet). But the advice, the only advice I can give to Congressman Arnie is that habang tumatagal ito, mas nagiging mahirap ang sitwasyon mo. So mas maaga kang makauwi, mas marami pang option ang mangyayari (the longer this takes, the trickier the situation becomes. So the earlier you come home, the more options you would have),” he said.\\n\\nOn Tuesday, Speaker Martin Romualdez said the House of Representatives Committee on Ethics and Privileges has reached a decision on Teves\\' unauthorized absence without official leave.\\n\\n\"I commend the Chairman and the committee members for acting expeditiously on the case, in consonance with the Committee\\'s mandate and in compliance with the Rules of the House to punish its members for disorderly behavior,\" Romualdez said. \"Kinikilala at nirerespeto po natin ang lahat ng karapatan ni Congressman Arnie bilang House member. Kaya naman binigyan natin siya ng pagkakataon para umuwi at linawin ang lahat ng isyung kinakaharap niya ngayon (We recognize and respect all the rights of Congressman Arnie as a House member. That is why we gave him a chance to return and clarify all the issues that he is facing right now).\"\\n\\nRomualdez has reiterated his call for Teves to come home after the expiration of his travel authority on March 9, assuring him that the chamber would exert all possible means to secure his safety.\\n\\nHe said the Ethics Committee is ready to submit its report and recommendation for plenary action.\\n\\n\"The decision on Congressman Arnie\\'s case now lies at the hands of his fellow House members, voting as an institution,\" he said. \"Rest assured that the House of Representatives will render its decision on this case observing due process and fully cognizant of Congressman Arnie\\'s rights, but with the best interest of the nation in mind.\" (PNA)'\n",
            " 'Idinaan ni Negros Oriental 3rd District Rep. Arnolfo “Arnie” Teves Jr. ang kaniyang paliwanag sa pagliban sa Kamara sa isang Facebook video Martes ng gabi. Screenshot\\n\\nMAYNILA — Humingi ng paumanhin si Negros Oriental 3rd District Rep. Arnolfo “Arnie” Teves Jr. kay House Speaker Martin Romualdez sa patuloy niyang pagliban sa Kamara kahit pa sinabihan na siya nito na umuwi ng Pilipinas.\\n\\nSa video na inilabas sa Facebook page ni Teves, sinabi niyang gusto na rin niyang bumalik sa bansa, pero hindi pa magawa dahil sa seryosong banta sa kanyang buhay. Lalo pa nauna nang binawi umano ng Philippine National Police ang lisensya ng baril niya, at tinanggal ang ilang police escort.\\n\\nKahit tiniyak ni Romualdez na handa ang PNP na magbigay ng seguridad, hindi pa umano nito napawi ang agam-agam ni Teves.\\n\\n“Boss Mart, sorry hindi ko kayo mapagbigyan sa hiling n’yo na umuwi ako dahil hindi ko pwedeng ipagpalit ang aking buhay sa inyong kahilingan,” sabi ni Teves.\\n\\n“Palagay na natin lagyan n’yo ako ng ilang pulis ba or army ... Ilang army, ilang pulis ang naka-assign kay Degamo? Saan na siya ngayon? Nakalibing. Hindi nga siya na-secure ng sandamakmak na army. Sabay sasabihan niyo ako kaya niyo ako i-secure?” dagdag niya.\\n\\n“Sabi nila gusto nila ako marinig. Pero nakiusap ako na magsalita ako via Zoom para they could hear my side. Hindi nila ako pinayagan. Kailangan daw talaga face to face … Hindi ko maintindihan bakit pinipilit nila ako pumunta face to face, na nakiusap na ako na hindi magpapakita muna doon ng physical dahil sa seryosong pagbabanta at grabeng pagbabanta sa aking buhay,” ayon pa kay Teves.\\n\\nPaso na ang travel clearance na ibinigay ng Kamara kay Teves na hanggang March 9 lang, at hindi na pinagbigyan ang kahilingan niyang palawigin ito o mag-leave.\\n\\nPero hindi pa rin humarap ng personal si Teves sa House Committee on Ethics and Privileges nitong Martes sa kabila ng 24 oras na palugit na ibinigay ng komite.\\n\\nKaya tinapos na nito ang imbestigasyon kaugnay ng pagliban ni Teves, at isusumite na ang ulat at rekomendasyon sa plenaryo.\\n\\nGiit ni Teves, payo lang, at hindi utos ang pagpapauwi sa kanya ni Romualdez noong una silang nagkausap. Tanong din niya, bakit attendance lang niya ang inimbestigahan ng komite, gayong hindi lang naman siya ang may pagliban sa Kamara.\\n\\n“Ilang araw lang ba ako nag-absent? Biglang ikukwestyon sa ethics committee. Ganito na lang para patas ang lahat. Bakit hindi natin ilabas ang record ng attendance ng buong 17th, 18th, at 19th Congress para makita n’yo ... Kahit noong kasagsagan ng pandemic, pumapasok ako physically,” sabi ni Teves.\\n\\n“Kilala mo ako Boss Mart, kung gaano ako katotoong tao. Alam mo kung paano kita pinagsilbihan noong majority leader ka palang… Alam mo ang ginawa natin para makuha sana ang speakership... Nakikiusap ako, boss, wag nyo naman sana ako idiin. Ayokong lumaban sa inyo, dahil wala naman akong laban. Sino ba naman si Arnie para lumaban sa gobyerno, kay Speaker at sinuman dyan. Ang kaya ko lang gawin magsabi ng katotohanan,” dagdag niya.\\n\\nNaniniwala si Teves na biktima rin siya ng mga pangyayari. Binatikos ng mambabatas ang pagdawit sa pangalan niya sa pagpatay kay Negros Oriental Governor Roel Degamo.\\n\\n“Pareho lang kami ng pamilya Degamo na biktima dito. Biktima sila Degamo. Ako rin biktima, dahil ginagamit ako ng marami diyan for political mileage. Sobrang kawawa na ako. Ginamit niyo pa ako para sa negosyo. Ginagamit niyo pa ako for political mileage. Wag naman sana,” sabi ni Teves.\\n\\nPanawagan ni Teves sa Department of Justice, tingnan lahat ng posibleng anggulo sa pagpatay kay Degamo. May mensahe rin siya kay Justice Secretary Jesus Crispin “Boying” Remulla.\\n\\n“Sec., wala akong problema sa iyong paggawa ng inyong trabaho bilang DOJ Secretary. Isama n’yo man ako sa mga suspek sa imbestigasyon, walang problema. Pero ang hiling ko lang, ‘wag naman ako lang. Lahat ng anggulo tingnan natin,” sabi ni Teves.\\n\\n“Tingnan din natin ang anggulo ng mga kakilala, kapamilya. Hindi pwedeng nakatuon lang sa isang tao. At idiin niyo doon lahat ng kaso at ipa-eksakto niyo ang ebidensya na nahagilap niyo o inimbento niyo. Wag naman sana ganoon,” dagdag niya.\\n\\n“Ang ipinagtataka ko rin, bakit ako tina-target bago pa man ‘yung killing, sabay nadagdag pa ‘yung killing sa Negros Oriental. Naririnig ko lang naman na anggulo, is yung sa e-sabong. Mayroon daw mga tao na gusto nilang masolo yung e-sabong, kaya kinakana nila ako. Matagal ko nang sinabi, wala na ako diyan,” ayon pa kay Teves.\\n\\nNanawagan naman siya ng tulong kay Pangulong Ferdinand Marcos Jr.\\n\\n\"Mr. President, sobra na yung ginagawa ng ibang tao sa gobyerno sa akin. Masyado na nila akong dinidiin, kinakawawa at inaapi,” apela niya.\\n\\nIsa din si Teves sa mga taong sinampahan ng kasong murder nitong Marso sa Department of Justice (DOJ) ng CIDG kaugnay ng pagpatay kina Negros Oriental Board Member Miguel Dungog at 2 iba pa noong 2019.\\n\\nAyon kay CIDG Director Police Brig. Gen. Romeo Caramat Jr., positibong itinuro ng mga saksi si Teves bilang mastermind umano sa pagpatay kina Dungog, Lester “Tom-Tom” Bato, at Pacito Libron.\\n\\nKAUGNAY NA ULAT:\\n\\nWatch more News on iWantTFC'\n",
            " 'Umaapela ang kampo ni Negros Oriental Rep. Arnolfo “Arnie” Teves Jr. na alisin ang 60-day suspension na ipinataw sa mambabatas dahil katanggap-tanggap ang rason nitong hindi umuwi ng bansa dahil sa banta nito sa kanyang buhay.\\n\\nBinigyan diin ni Atty. Ferdinand Topacio, legal counsel ni Teves, na hindi palaging kailangan ng “demonstrable proof” upang patunayan na totoong may banta sa buhay ang kanyang kliyente.\\n\\n“Everyone has a right to be cautious about the threats he perceives against his very life. The threat that Rep. Teves conceives, may therefore be said as falling under ‘unavoidable circumstances’ which prevents his physical presence in the sessions of the House, hence, an exempting circumstance under Sec.71, Rule IX of its Rules.” saad ni Topacio sa isang liham sa House Committee on Ethics and Privileges.\\n\\nDagdag pa ng kanilang kampo, hindi binabalewala ni Teves ang panawagan ng Kongreso sapagkat sinubukan nitong makipagugnayan sa pamamagitan ng pagdalo sa virtual sessions subalit hindi ito pinagbigyan.\\n\\n“With these, and the expressed intention and standing commitment of Representative Teves to participate in the sessions, there is no refusal to discharge his duties nor disrespect the authority and dignity of the Honorable Congress,” ani Topacio.\\n\\n“It is, thus, most respectfully prayed that the said suspension be lifted and Rep. Teves be allowed to participate in the sessions and discharge his duties as a member of Congress, virtually in the meantime,” dagdag nito.']\n"
          ]
        }
      ]
    },
    {
      "cell_type": "markdown",
      "source": [
        "#### Sample Claim 2"
      ],
      "metadata": {
        "id": "zDJ7rgyNZte1"
      }
    },
    {
      "cell_type": "code",
      "source": [
        "sampleClaim2 = \"Wala nang cancer si Tenorio.\"\n",
        "filteredUrlList2, extractedArticlesList2, topFiveEvidences2 = evidenceCollector(sampleClaim2, cosineSimilarityModel)"
      ],
      "metadata": {
        "colab": {
          "base_uri": "https://localhost:8080/"
        },
        "id": "uXaSdLqQZqdu",
        "outputId": "1e7e455a-08f1-49e5-d7ee-e42dc5124aa1"
      },
      "execution_count": 141,
      "outputs": [
        {
          "output_type": "stream",
          "name": "stderr",
          "text": [
            "/usr/local/lib/python3.10/dist-packages/dateutil/parser/_parser.py:1207: UnknownTimezoneWarning: tzname PST identified but not understood.  Pass `tzinfos` argument in order to correctly return a timezone-aware datetime.  In a future version, this will raise an exception.\n",
            "  warnings.warn(\"tzname {tzname} identified but not understood.  \"\n"
          ]
        }
      ]
    },
    {
      "cell_type": "code",
      "source": [
        "len(filteredUrlList2)"
      ],
      "metadata": {
        "colab": {
          "base_uri": "https://localhost:8080/"
        },
        "id": "Wc6Pc19sboy1",
        "outputId": "50474e9a-9a37-4673-8dcd-6ccb872f526b"
      },
      "execution_count": 142,
      "outputs": [
        {
          "output_type": "execute_result",
          "data": {
            "text/plain": [
              "20"
            ]
          },
          "metadata": {},
          "execution_count": 142
        }
      ]
    },
    {
      "cell_type": "code",
      "source": [
        "len(extractedArticlesList2)"
      ],
      "metadata": {
        "colab": {
          "base_uri": "https://localhost:8080/"
        },
        "id": "aNyDjvN4buLF",
        "outputId": "3e6c340c-8f3b-4e58-c08b-c39389d8deda"
      },
      "execution_count": 143,
      "outputs": [
        {
          "output_type": "execute_result",
          "data": {
            "text/plain": [
              "20"
            ]
          },
          "metadata": {},
          "execution_count": 143
        }
      ]
    },
    {
      "cell_type": "code",
      "source": [
        "print(topFiveEvidences2)"
      ],
      "metadata": {
        "colab": {
          "base_uri": "https://localhost:8080/"
        },
        "id": "l5QvVCgrbyuI",
        "outputId": "5606f2cd-446d-4732-a7d6-a6290a99cb6a"
      },
      "execution_count": 144,
      "outputs": [
        {
          "output_type": "stream",
          "name": "stdout",
          "text": [
            "['NAKIKIPAGLABAN ngayon sa colon cancer ang tinaguriang “Iron Man” ng Philippine Basketball Association na si LA Tenorio.\\n\\nNa-diagnose ng Stage 3 colon cancer ang 38-anyos professional basketball player at Barangay Ginebra guard, base na rin sa official statement na ipinost sa PBA website kahapon, March 21.\\n\\nHumingi ng paumanhin si LA sa publiko lalo sa mga supporters ng Ginebra dahil inilihim muna niya ang kanyang health condition matapos malaman ang initial diagnosis sa kanya three weeks ago.\\n\\nMarami kasi ang nagtaka kung bakit hindi nakapaglaro ang veteran cager sa Gin Kings campaign ng PBA Governors’ Cup. Ang announcement ng kanyang team ay sumailalim siya sa surgery noong March 8 “for an aggravated sports hernia”.\\n\\nView this post on Instagram A post shared by LA Tenorio (@la_tenorio)\\n\\n\\n\\n“I was recently diagnosed with Stage 3 colon cancer. The initial testing three weeks ago led me to instantly miss practices and games. I have completed my surgery last week and will soon undergo treatment for the next few months,” ang pahayag ni LA Tenorio.\\n\\nBaka Bet Mo: Vice Ganda, Ion Perez ‘nagpakasal’ na sa Las Vegas, may pangako para sa isa’t isa\\n\\nIpinagdiinan naman ng Ginebra player na hindi pa siya magre-retire sa PBA at naniniwala siya na makaka-recover din siya very soon sa tulong na rin ng kanyang mga doktor mula sa Philippines at Singapore.\\n\\n“I have given not only 17 full years to the PBA, but have dedicated my whole life to basketball. I have committed my body and health for the love of the game. It has been my passion and love. Sadly, there are things beyond one’s control,” sabi pa ni LA.\\n\\nView this post on Instagram A post shared by LA Tenorio (@la_tenorio)\\n\\n\\n\\nSabi pa ng PBA player, “I would like to issue a statement about my health status by firstly apologizing to my teammates, some coaches, the PBA, the fans, the media and even some friends.\\n\\n“As most of you are aware I have been nursing a minor injury since the Finals last January. I used that as the reason for my sudden absence. My sincerest apologies to all.\\n\\n“With my profession in sports tied in health and entertainment, it will be very difficult to keep the real reason a secret any longer and will only lead to unnecessary gossips, fake news and misinterpretations,” aniya pa.\\n\\nDagdag pang pahayag ni LA, “But with my FAITH, I am lifting everything to God now and I believe there is a higher purpose as I go through this part of my life.\\n\\n“I am not yet retiring from the game I love, and with the help of the best doctors in the Philippines and Singapore, I BELIEVE i can touch a basketball once more and return stronger,” sabi pa ni LA Tenorio.\\n\\nLA Santos todo tanggol kay Jane de Leon laban sa bashers: Hindi n’yo lang alam kung ano’ng klase talaga siyang tao\\n\\nTom Rodriguez wala pang planong magkaroon ng bagong pag-ibig: Gusto kong buuin ‘yung sarili ko'\n",
            " 'LA Tenorio revealed on Tuesday he was diagnosed with Stage 3 colon cancer.\\n\\nIn a statement, the PBA veteran said, \"I was recently diagnosed with Stage 3 colon cancer.\"\\n\\nThe Barangay Ginebra star said he will undergo treatment in the next few months after completing his surgery last week.\\n\\n\"The initial testing three weeks ago led me to instantly miss practices and games. I have completed my surgery last week and will soon undergo treatment for the next few months.\"\\n\\nTenorio apologized for using the injury he sustained during the Finals last January in the Commissioner\\'s Cup as a reason for his sudden absence.\\n\\nFor now, Tenorio is \"lifting everything to God\" and clarified he is not yet retiring from the sport.\\n\\n\"I have given not only 17 full years to the PBA, but have dedicated my whole life to basketball. I have committed my body and health for the love of the game. It has been my passion and love. Sadly, there are things beyond one\\'s control. But with my FAITH, I am lifting everything to God now and I believe there is a higher purpose as I go through this part of my life,\" said Tenorio.\\n\\n\"I am not yet retiring from the game I love, and with the help of the best doctors in the Philippines and Singapore, I BELIEVE i can touch a basketball once more and return stronger.\"\\n\\nTenorio\\'s streak of consecutive games ended at 744 as he missed Ginebra\\'s game last March 1. — LA, GMA Integrated News'\n",
            " 'NILINAW ng tinaguriang PBA ‘Iron Man’ na si Lewis Alfred Tenorio na siya ay tumor-free ngunit hindi pa cancer-free.\\n\\nIto ang ipinaliwanag ng beteranong guwardiya ng Barangay Ginebra Gin Kings na si Tenorio bilang pagtatama sa mga iba-ibang nauulat na sitwasyon sa kanyang kalusugan.\\n\\n“I’d like to correct that, good if I am, why not claim it, but to correct it, I am not cancer-free, I am tumor-free, with the successful surgery last March,” sabi ng 38-anyos na eight-time PBA champion.\\n\\nGayunpaman, inihayag ni Tenorio na ang kanyang opisyal na biopsy ay nagpakita na siya ay may stage 3 colon cancer at kailangang sumailalim sa chemotherapy tuwing dalawang linggo sa loob ng anim na buwan.\\n\\nIkinagulat ng dating Gilas floor general at ng basketball community nakaraang buwan nang maibunyag na siya ay may dinadamdam na sakit. (Lito Oredo)'\n",
            " 'Inanunsyo ng PBA at Barangay Ginebra player na si LA Tenorio nitong Martes, Marso 21, ang malungkot na balitang na-diagnose siya ng Stage 3 colon cancer.\\n\\nAyon kay Tenorio, ang mga initial testing na isinagawa sa kaniya noong mga nakaraang tatlong linggo ang naging dahilan kung bakit lagi siyang wala sa mga practice at laro sa PBA.\\n\\n“I have given not only 17 full years to the PBA, but have dedicated my whole life to basketball. I have committed my body and health for the love of the game. It has been my passion and love,” ani Tenorio.\\n\\n“Sadly, there are things beyond one’s control. But with my FAITH, I am lifting everything to God now and I believe there is a higher purpose as I go through this part of my life. I am not yet retiring from the game I love, and with the help of the best doctors in the Philippines and Singapore, I BELIEVE i can touch a basketball once more and return stronger.”\\n\\nNatapos na umano ng basketbolista ang kaniyang surgery nitong nakaraan linggo at magsisimulang magpa-treatment sa mga susunod na buwan.\\n\\nNagpasalamat din si Tenorio sa kaniyang pamilya, mga kaibigan, kasama sa PBA, at sa kaniyang fans, sa walang sawang pagsuporta nila sa kaniya at pagdadasal na siya’y gumaling.\\n\\n“Together with my family and loved ones, you are all my strength, inspiration and what drives me to be the best person I can ever be, physically, mentally, and spiritually. I will see everyone very, very soon,” aniya,'\n",
            " 'Inamin ng Barangay Ginebra stalwart na si LA Tenorio nitong Martes na nakikipaglaban siya ngayon sa Stage 3 colon cancer.\\n\\n“I was recently diagnosed with Stage 3 colon cancer,” saad ni Tenorio sa isang pahayag at dagdag niya, sasailalim siya sa gamutan sa susunod na mga buwan matapos ang isinagawang operasyon sa kaniya noong nakaraang linggo.\\n\\n“The initial testing three weeks ago led me to instantly miss practices and games. I have completed my surgery last week and will soon undergo treatment for the next few months,” sabi ni Tenorio.\\n\\nHumingi ng paumanhin si Tenorio na ginamit niyang dahilan ang tinamong injury sa Finals noong Enero sa Commissioner’s Cup sa biglaan niyang pagkawala.\\n\\nSa ngayon, sinabi ni Tenorio na ipinapaubaya na niya ang lahat sa Diyos, pero hindi pa raw siya magreretiro.\\n\\n“I have given not only 17 full years to the PBA, but have dedicated my whole life to basketball. I have committed my body and health for the love of the game. It has been my passion and love. Sadly, there are things beyond one’s control. But with my FAITH, I am lifting everything to God now and I believe there is a higher purpose as I go through this part of my life,” pahayag niya.\\n\\n“I am not yet retiring from the game I love, and with the help of the best doctors in the Philippines and Singapore, I BELIEVE i can touch a basketball once more and return stronger,” dagdag ni Tenorio.\\n\\nNagsimulang hindi makapaglaro sa Ginebra si Tenorio noong March 1.']\n"
          ]
        }
      ]
    },
    {
      "cell_type": "markdown",
      "source": [
        "# References"
      ],
      "metadata": {
        "id": "JYEvaOkcVOKb"
      }
    },
    {
      "cell_type": "markdown",
      "source": [
        "[1] https://www.geeksforgeeks.org/performing-google-search-using-python-code/\n",
        "\n",
        "[2] https://towardsdatascience.com/bert-for-measuring-text-similarity-eec91c6bf9e1\n",
        "\n",
        "[3] https://stackoverflow.com/questions/6910641/how-do-i-get-indices-of-n-maximum-values-in-a-numpy-array"
      ],
      "metadata": {
        "id": "0fkpTQyDfxXC"
      }
    }
  ]
}